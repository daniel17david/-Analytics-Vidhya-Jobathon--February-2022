{
  "nbformat": 4,
  "nbformat_minor": 0,
  "metadata": {
    "colab": {
      "name": "DanielThommana_jobathon_feb2022_final.ipynb",
      "provenance": [],
      "collapsed_sections": [
        "JJ2E9fDF9uL3",
        "U8VgkDFN96cN",
        "h4i2L5zD-l9q",
        "2aKp549z_AOS",
        "Rqgt2vC6_w8s",
        "4Vb5nW4dDyuP"
      ]
    },
    "kernelspec": {
      "name": "python3",
      "display_name": "Python 3"
    },
    "language_info": {
      "name": "python"
    }
  },
  "cells": [
    {
      "cell_type": "markdown",
      "source": [
        "###  Importing Libraries"
      ],
      "metadata": {
        "id": "JJ2E9fDF9uL3"
      }
    },
    {
      "cell_type": "code",
      "source": [
        "# Importing libraries\n",
        "import pandas as pd\n",
        "import numpy as np\n",
        "from sklearn.model_selection import train_test_split\n",
        "import warnings   \n",
        "warnings.filterwarnings(\"ignore\")"
      ],
      "metadata": {
        "id": "ao80ofnK90WT"
      },
      "execution_count": 35,
      "outputs": []
    },
    {
      "cell_type": "markdown",
      "source": [
        "### Data Inspection"
      ],
      "metadata": {
        "id": "U8VgkDFN96cN"
      }
    },
    {
      "cell_type": "code",
      "source": [
        "# Reading data\n",
        "train = pd.read_csv(\"train_0OECtn8.csv\")\n",
        "test = pd.read_csv(\"test_1zqHu22.csv\")"
      ],
      "metadata": {
        "id": "cXcXJMMXS3r8"
      },
      "execution_count": 36,
      "outputs": []
    },
    {
      "cell_type": "code",
      "source": [
        "# Shape of data\n",
        "train.shape,test.shape"
      ],
      "metadata": {
        "colab": {
          "base_uri": "https://localhost:8080/"
        },
        "id": "neQs1unHUHTM",
        "outputId": "82ff1563-64f5-4be3-ab8a-5afdf9efc0b7"
      },
      "execution_count": 37,
      "outputs": [
        {
          "output_type": "execute_result",
          "data": {
            "text/plain": [
              "((89197, 10), (11121, 9))"
            ]
          },
          "metadata": {},
          "execution_count": 37
        }
      ]
    },
    {
      "cell_type": "code",
      "source": [
        "train.head()"
      ],
      "metadata": {
        "colab": {
          "base_uri": "https://localhost:8080/",
          "height": 0
        },
        "id": "ebgeq36CTSYZ",
        "outputId": "f28328a5-1829-49f1-c662-5db2f37365c3"
      },
      "execution_count": 38,
      "outputs": [
        {
          "output_type": "execute_result",
          "data": {
            "text/html": [
              "\n",
              "  <div id=\"df-71d28d13-e0bf-4bd8-9038-2149212194ce\">\n",
              "    <div class=\"colab-df-container\">\n",
              "      <div>\n",
              "<style scoped>\n",
              "    .dataframe tbody tr th:only-of-type {\n",
              "        vertical-align: middle;\n",
              "    }\n",
              "\n",
              "    .dataframe tbody tr th {\n",
              "        vertical-align: top;\n",
              "    }\n",
              "\n",
              "    .dataframe thead th {\n",
              "        text-align: right;\n",
              "    }\n",
              "</style>\n",
              "<table border=\"1\" class=\"dataframe\">\n",
              "  <thead>\n",
              "    <tr style=\"text-align: right;\">\n",
              "      <th></th>\n",
              "      <th>row_id</th>\n",
              "      <th>user_id</th>\n",
              "      <th>category_id</th>\n",
              "      <th>video_id</th>\n",
              "      <th>age</th>\n",
              "      <th>gender</th>\n",
              "      <th>profession</th>\n",
              "      <th>followers</th>\n",
              "      <th>views</th>\n",
              "      <th>engagement_score</th>\n",
              "    </tr>\n",
              "  </thead>\n",
              "  <tbody>\n",
              "    <tr>\n",
              "      <th>0</th>\n",
              "      <td>1</td>\n",
              "      <td>19990</td>\n",
              "      <td>37</td>\n",
              "      <td>128</td>\n",
              "      <td>24</td>\n",
              "      <td>Male</td>\n",
              "      <td>Student</td>\n",
              "      <td>180</td>\n",
              "      <td>1000</td>\n",
              "      <td>4.33</td>\n",
              "    </tr>\n",
              "    <tr>\n",
              "      <th>1</th>\n",
              "      <td>2</td>\n",
              "      <td>5304</td>\n",
              "      <td>32</td>\n",
              "      <td>132</td>\n",
              "      <td>14</td>\n",
              "      <td>Female</td>\n",
              "      <td>Student</td>\n",
              "      <td>330</td>\n",
              "      <td>714</td>\n",
              "      <td>1.79</td>\n",
              "    </tr>\n",
              "    <tr>\n",
              "      <th>2</th>\n",
              "      <td>3</td>\n",
              "      <td>1840</td>\n",
              "      <td>12</td>\n",
              "      <td>24</td>\n",
              "      <td>19</td>\n",
              "      <td>Male</td>\n",
              "      <td>Student</td>\n",
              "      <td>180</td>\n",
              "      <td>138</td>\n",
              "      <td>4.35</td>\n",
              "    </tr>\n",
              "    <tr>\n",
              "      <th>3</th>\n",
              "      <td>4</td>\n",
              "      <td>12597</td>\n",
              "      <td>23</td>\n",
              "      <td>112</td>\n",
              "      <td>19</td>\n",
              "      <td>Male</td>\n",
              "      <td>Student</td>\n",
              "      <td>220</td>\n",
              "      <td>613</td>\n",
              "      <td>3.77</td>\n",
              "    </tr>\n",
              "    <tr>\n",
              "      <th>4</th>\n",
              "      <td>5</td>\n",
              "      <td>13626</td>\n",
              "      <td>23</td>\n",
              "      <td>112</td>\n",
              "      <td>27</td>\n",
              "      <td>Male</td>\n",
              "      <td>Working Professional</td>\n",
              "      <td>220</td>\n",
              "      <td>613</td>\n",
              "      <td>3.13</td>\n",
              "    </tr>\n",
              "  </tbody>\n",
              "</table>\n",
              "</div>\n",
              "      <button class=\"colab-df-convert\" onclick=\"convertToInteractive('df-71d28d13-e0bf-4bd8-9038-2149212194ce')\"\n",
              "              title=\"Convert this dataframe to an interactive table.\"\n",
              "              style=\"display:none;\">\n",
              "        \n",
              "  <svg xmlns=\"http://www.w3.org/2000/svg\" height=\"24px\"viewBox=\"0 0 24 24\"\n",
              "       width=\"24px\">\n",
              "    <path d=\"M0 0h24v24H0V0z\" fill=\"none\"/>\n",
              "    <path d=\"M18.56 5.44l.94 2.06.94-2.06 2.06-.94-2.06-.94-.94-2.06-.94 2.06-2.06.94zm-11 1L8.5 8.5l.94-2.06 2.06-.94-2.06-.94L8.5 2.5l-.94 2.06-2.06.94zm10 10l.94 2.06.94-2.06 2.06-.94-2.06-.94-.94-2.06-.94 2.06-2.06.94z\"/><path d=\"M17.41 7.96l-1.37-1.37c-.4-.4-.92-.59-1.43-.59-.52 0-1.04.2-1.43.59L10.3 9.45l-7.72 7.72c-.78.78-.78 2.05 0 2.83L4 21.41c.39.39.9.59 1.41.59.51 0 1.02-.2 1.41-.59l7.78-7.78 2.81-2.81c.8-.78.8-2.07 0-2.86zM5.41 20L4 18.59l7.72-7.72 1.47 1.35L5.41 20z\"/>\n",
              "  </svg>\n",
              "      </button>\n",
              "      \n",
              "  <style>\n",
              "    .colab-df-container {\n",
              "      display:flex;\n",
              "      flex-wrap:wrap;\n",
              "      gap: 12px;\n",
              "    }\n",
              "\n",
              "    .colab-df-convert {\n",
              "      background-color: #E8F0FE;\n",
              "      border: none;\n",
              "      border-radius: 50%;\n",
              "      cursor: pointer;\n",
              "      display: none;\n",
              "      fill: #1967D2;\n",
              "      height: 32px;\n",
              "      padding: 0 0 0 0;\n",
              "      width: 32px;\n",
              "    }\n",
              "\n",
              "    .colab-df-convert:hover {\n",
              "      background-color: #E2EBFA;\n",
              "      box-shadow: 0px 1px 2px rgba(60, 64, 67, 0.3), 0px 1px 3px 1px rgba(60, 64, 67, 0.15);\n",
              "      fill: #174EA6;\n",
              "    }\n",
              "\n",
              "    [theme=dark] .colab-df-convert {\n",
              "      background-color: #3B4455;\n",
              "      fill: #D2E3FC;\n",
              "    }\n",
              "\n",
              "    [theme=dark] .colab-df-convert:hover {\n",
              "      background-color: #434B5C;\n",
              "      box-shadow: 0px 1px 3px 1px rgba(0, 0, 0, 0.15);\n",
              "      filter: drop-shadow(0px 1px 2px rgba(0, 0, 0, 0.3));\n",
              "      fill: #FFFFFF;\n",
              "    }\n",
              "  </style>\n",
              "\n",
              "      <script>\n",
              "        const buttonEl =\n",
              "          document.querySelector('#df-71d28d13-e0bf-4bd8-9038-2149212194ce button.colab-df-convert');\n",
              "        buttonEl.style.display =\n",
              "          google.colab.kernel.accessAllowed ? 'block' : 'none';\n",
              "\n",
              "        async function convertToInteractive(key) {\n",
              "          const element = document.querySelector('#df-71d28d13-e0bf-4bd8-9038-2149212194ce');\n",
              "          const dataTable =\n",
              "            await google.colab.kernel.invokeFunction('convertToInteractive',\n",
              "                                                     [key], {});\n",
              "          if (!dataTable) return;\n",
              "\n",
              "          const docLinkHtml = 'Like what you see? Visit the ' +\n",
              "            '<a target=\"_blank\" href=https://colab.research.google.com/notebooks/data_table.ipynb>data table notebook</a>'\n",
              "            + ' to learn more about interactive tables.';\n",
              "          element.innerHTML = '';\n",
              "          dataTable['output_type'] = 'display_data';\n",
              "          await google.colab.output.renderOutput(dataTable, element);\n",
              "          const docLink = document.createElement('div');\n",
              "          docLink.innerHTML = docLinkHtml;\n",
              "          element.appendChild(docLink);\n",
              "        }\n",
              "      </script>\n",
              "    </div>\n",
              "  </div>\n",
              "  "
            ],
            "text/plain": [
              "   row_id  user_id  category_id  ...  followers  views engagement_score\n",
              "0       1    19990           37  ...        180   1000             4.33\n",
              "1       2     5304           32  ...        330    714             1.79\n",
              "2       3     1840           12  ...        180    138             4.35\n",
              "3       4    12597           23  ...        220    613             3.77\n",
              "4       5    13626           23  ...        220    613             3.13\n",
              "\n",
              "[5 rows x 10 columns]"
            ]
          },
          "metadata": {},
          "execution_count": 38
        }
      ]
    },
    {
      "cell_type": "code",
      "source": [
        "test.head()"
      ],
      "metadata": {
        "colab": {
          "base_uri": "https://localhost:8080/",
          "height": 0
        },
        "id": "zCqWgVAtTTel",
        "outputId": "1987dd82-e86e-436f-8af9-d7d838d05149"
      },
      "execution_count": 39,
      "outputs": [
        {
          "output_type": "execute_result",
          "data": {
            "text/html": [
              "\n",
              "  <div id=\"df-f90a737c-9daf-41c3-a9a6-f2398225c81d\">\n",
              "    <div class=\"colab-df-container\">\n",
              "      <div>\n",
              "<style scoped>\n",
              "    .dataframe tbody tr th:only-of-type {\n",
              "        vertical-align: middle;\n",
              "    }\n",
              "\n",
              "    .dataframe tbody tr th {\n",
              "        vertical-align: top;\n",
              "    }\n",
              "\n",
              "    .dataframe thead th {\n",
              "        text-align: right;\n",
              "    }\n",
              "</style>\n",
              "<table border=\"1\" class=\"dataframe\">\n",
              "  <thead>\n",
              "    <tr style=\"text-align: right;\">\n",
              "      <th></th>\n",
              "      <th>row_id</th>\n",
              "      <th>user_id</th>\n",
              "      <th>category_id</th>\n",
              "      <th>video_id</th>\n",
              "      <th>age</th>\n",
              "      <th>gender</th>\n",
              "      <th>profession</th>\n",
              "      <th>followers</th>\n",
              "      <th>views</th>\n",
              "    </tr>\n",
              "  </thead>\n",
              "  <tbody>\n",
              "    <tr>\n",
              "      <th>0</th>\n",
              "      <td>89198</td>\n",
              "      <td>7986</td>\n",
              "      <td>12</td>\n",
              "      <td>42</td>\n",
              "      <td>14</td>\n",
              "      <td>Male</td>\n",
              "      <td>Student</td>\n",
              "      <td>180</td>\n",
              "      <td>138</td>\n",
              "    </tr>\n",
              "    <tr>\n",
              "      <th>1</th>\n",
              "      <td>89199</td>\n",
              "      <td>11278</td>\n",
              "      <td>34</td>\n",
              "      <td>115</td>\n",
              "      <td>14</td>\n",
              "      <td>Male</td>\n",
              "      <td>Student</td>\n",
              "      <td>230</td>\n",
              "      <td>840</td>\n",
              "    </tr>\n",
              "    <tr>\n",
              "      <th>2</th>\n",
              "      <td>89200</td>\n",
              "      <td>17245</td>\n",
              "      <td>8</td>\n",
              "      <td>110</td>\n",
              "      <td>44</td>\n",
              "      <td>Female</td>\n",
              "      <td>Working Professional</td>\n",
              "      <td>280</td>\n",
              "      <td>628</td>\n",
              "    </tr>\n",
              "    <tr>\n",
              "      <th>3</th>\n",
              "      <td>89201</td>\n",
              "      <td>9851</td>\n",
              "      <td>16</td>\n",
              "      <td>137</td>\n",
              "      <td>18</td>\n",
              "      <td>Male</td>\n",
              "      <td>Student</td>\n",
              "      <td>270</td>\n",
              "      <td>462</td>\n",
              "    </tr>\n",
              "    <tr>\n",
              "      <th>4</th>\n",
              "      <td>89202</td>\n",
              "      <td>16008</td>\n",
              "      <td>34</td>\n",
              "      <td>96</td>\n",
              "      <td>47</td>\n",
              "      <td>Female</td>\n",
              "      <td>Other</td>\n",
              "      <td>230</td>\n",
              "      <td>840</td>\n",
              "    </tr>\n",
              "  </tbody>\n",
              "</table>\n",
              "</div>\n",
              "      <button class=\"colab-df-convert\" onclick=\"convertToInteractive('df-f90a737c-9daf-41c3-a9a6-f2398225c81d')\"\n",
              "              title=\"Convert this dataframe to an interactive table.\"\n",
              "              style=\"display:none;\">\n",
              "        \n",
              "  <svg xmlns=\"http://www.w3.org/2000/svg\" height=\"24px\"viewBox=\"0 0 24 24\"\n",
              "       width=\"24px\">\n",
              "    <path d=\"M0 0h24v24H0V0z\" fill=\"none\"/>\n",
              "    <path d=\"M18.56 5.44l.94 2.06.94-2.06 2.06-.94-2.06-.94-.94-2.06-.94 2.06-2.06.94zm-11 1L8.5 8.5l.94-2.06 2.06-.94-2.06-.94L8.5 2.5l-.94 2.06-2.06.94zm10 10l.94 2.06.94-2.06 2.06-.94-2.06-.94-.94-2.06-.94 2.06-2.06.94z\"/><path d=\"M17.41 7.96l-1.37-1.37c-.4-.4-.92-.59-1.43-.59-.52 0-1.04.2-1.43.59L10.3 9.45l-7.72 7.72c-.78.78-.78 2.05 0 2.83L4 21.41c.39.39.9.59 1.41.59.51 0 1.02-.2 1.41-.59l7.78-7.78 2.81-2.81c.8-.78.8-2.07 0-2.86zM5.41 20L4 18.59l7.72-7.72 1.47 1.35L5.41 20z\"/>\n",
              "  </svg>\n",
              "      </button>\n",
              "      \n",
              "  <style>\n",
              "    .colab-df-container {\n",
              "      display:flex;\n",
              "      flex-wrap:wrap;\n",
              "      gap: 12px;\n",
              "    }\n",
              "\n",
              "    .colab-df-convert {\n",
              "      background-color: #E8F0FE;\n",
              "      border: none;\n",
              "      border-radius: 50%;\n",
              "      cursor: pointer;\n",
              "      display: none;\n",
              "      fill: #1967D2;\n",
              "      height: 32px;\n",
              "      padding: 0 0 0 0;\n",
              "      width: 32px;\n",
              "    }\n",
              "\n",
              "    .colab-df-convert:hover {\n",
              "      background-color: #E2EBFA;\n",
              "      box-shadow: 0px 1px 2px rgba(60, 64, 67, 0.3), 0px 1px 3px 1px rgba(60, 64, 67, 0.15);\n",
              "      fill: #174EA6;\n",
              "    }\n",
              "\n",
              "    [theme=dark] .colab-df-convert {\n",
              "      background-color: #3B4455;\n",
              "      fill: #D2E3FC;\n",
              "    }\n",
              "\n",
              "    [theme=dark] .colab-df-convert:hover {\n",
              "      background-color: #434B5C;\n",
              "      box-shadow: 0px 1px 3px 1px rgba(0, 0, 0, 0.15);\n",
              "      filter: drop-shadow(0px 1px 2px rgba(0, 0, 0, 0.3));\n",
              "      fill: #FFFFFF;\n",
              "    }\n",
              "  </style>\n",
              "\n",
              "      <script>\n",
              "        const buttonEl =\n",
              "          document.querySelector('#df-f90a737c-9daf-41c3-a9a6-f2398225c81d button.colab-df-convert');\n",
              "        buttonEl.style.display =\n",
              "          google.colab.kernel.accessAllowed ? 'block' : 'none';\n",
              "\n",
              "        async function convertToInteractive(key) {\n",
              "          const element = document.querySelector('#df-f90a737c-9daf-41c3-a9a6-f2398225c81d');\n",
              "          const dataTable =\n",
              "            await google.colab.kernel.invokeFunction('convertToInteractive',\n",
              "                                                     [key], {});\n",
              "          if (!dataTable) return;\n",
              "\n",
              "          const docLinkHtml = 'Like what you see? Visit the ' +\n",
              "            '<a target=\"_blank\" href=https://colab.research.google.com/notebooks/data_table.ipynb>data table notebook</a>'\n",
              "            + ' to learn more about interactive tables.';\n",
              "          element.innerHTML = '';\n",
              "          dataTable['output_type'] = 'display_data';\n",
              "          await google.colab.output.renderOutput(dataTable, element);\n",
              "          const docLink = document.createElement('div');\n",
              "          docLink.innerHTML = docLinkHtml;\n",
              "          element.appendChild(docLink);\n",
              "        }\n",
              "      </script>\n",
              "    </div>\n",
              "  </div>\n",
              "  "
            ],
            "text/plain": [
              "   row_id  user_id  category_id  ...            profession  followers views\n",
              "0   89198     7986           12  ...               Student        180   138\n",
              "1   89199    11278           34  ...               Student        230   840\n",
              "2   89200    17245            8  ...  Working Professional        280   628\n",
              "3   89201     9851           16  ...               Student        270   462\n",
              "4   89202    16008           34  ...                 Other        230   840\n",
              "\n",
              "[5 rows x 9 columns]"
            ]
          },
          "metadata": {},
          "execution_count": 39
        }
      ]
    },
    {
      "cell_type": "code",
      "source": [
        "# Checking for missing values\n",
        "train.isnull().sum()\n"
      ],
      "metadata": {
        "colab": {
          "base_uri": "https://localhost:8080/"
        },
        "id": "dNNGX2SVTefM",
        "outputId": "9111170c-9807-45b5-fafb-faec2cc6f502"
      },
      "execution_count": 40,
      "outputs": [
        {
          "output_type": "execute_result",
          "data": {
            "text/plain": [
              "row_id              0\n",
              "user_id             0\n",
              "category_id         0\n",
              "video_id            0\n",
              "age                 0\n",
              "gender              0\n",
              "profession          0\n",
              "followers           0\n",
              "views               0\n",
              "engagement_score    0\n",
              "dtype: int64"
            ]
          },
          "metadata": {},
          "execution_count": 40
        }
      ]
    },
    {
      "cell_type": "code",
      "source": [
        "# Checking for missing values\n",
        "test.isnull().sum()"
      ],
      "metadata": {
        "colab": {
          "base_uri": "https://localhost:8080/"
        },
        "id": "nlKtVIsoTgEr",
        "outputId": "8b55da79-75e7-4c4d-f0f7-a374c8052e27"
      },
      "execution_count": 41,
      "outputs": [
        {
          "output_type": "execute_result",
          "data": {
            "text/plain": [
              "row_id         0\n",
              "user_id        0\n",
              "category_id    0\n",
              "video_id       0\n",
              "age            0\n",
              "gender         0\n",
              "profession     0\n",
              "followers      0\n",
              "views          0\n",
              "dtype: int64"
            ]
          },
          "metadata": {},
          "execution_count": 41
        }
      ]
    },
    {
      "cell_type": "code",
      "source": [
        "# Checking datatype\n",
        "train.dtypes"
      ],
      "metadata": {
        "colab": {
          "base_uri": "https://localhost:8080/"
        },
        "id": "7NFEB5BlUQVQ",
        "outputId": "dbc760c7-8407-47b6-9046-8768545146e5"
      },
      "execution_count": 42,
      "outputs": [
        {
          "output_type": "execute_result",
          "data": {
            "text/plain": [
              "row_id                int64\n",
              "user_id               int64\n",
              "category_id           int64\n",
              "video_id              int64\n",
              "age                   int64\n",
              "gender               object\n",
              "profession           object\n",
              "followers             int64\n",
              "views                 int64\n",
              "engagement_score    float64\n",
              "dtype: object"
            ]
          },
          "metadata": {},
          "execution_count": 42
        }
      ]
    },
    {
      "cell_type": "code",
      "source": [
        "# Checking datatype\n",
        "test.dtypes"
      ],
      "metadata": {
        "colab": {
          "base_uri": "https://localhost:8080/"
        },
        "id": "HgiTNp2WY-9X",
        "outputId": "adb24ad8-264b-4fd8-f9d3-22b155fe8855"
      },
      "execution_count": 43,
      "outputs": [
        {
          "output_type": "execute_result",
          "data": {
            "text/plain": [
              "row_id          int64\n",
              "user_id         int64\n",
              "category_id     int64\n",
              "video_id        int64\n",
              "age             int64\n",
              "gender         object\n",
              "profession     object\n",
              "followers       int64\n",
              "views           int64\n",
              "dtype: object"
            ]
          },
          "metadata": {},
          "execution_count": 43
        }
      ]
    },
    {
      "cell_type": "markdown",
      "source": [
        "### Typecasting"
      ],
      "metadata": {
        "id": "h4i2L5zD-l9q"
      }
    },
    {
      "cell_type": "code",
      "source": [
        "# Typecasting variables\n",
        "train['gender'] = train['gender'].astype('category')\n",
        "train['profession'] = train['profession'].astype('category')\n",
        "test['gender'] = test['gender'].astype('category')\n",
        "test['profession'] = test['profession'].astype('category')"
      ],
      "metadata": {
        "id": "wASQDqroYgRY"
      },
      "execution_count": 44,
      "outputs": []
    },
    {
      "cell_type": "code",
      "source": [
        "train.dtypes"
      ],
      "metadata": {
        "colab": {
          "base_uri": "https://localhost:8080/"
        },
        "id": "BUOuGpbtZKdx",
        "outputId": "8d6d9c61-632c-4914-f52f-a264eee31be7"
      },
      "execution_count": 45,
      "outputs": [
        {
          "output_type": "execute_result",
          "data": {
            "text/plain": [
              "row_id                 int64\n",
              "user_id                int64\n",
              "category_id            int64\n",
              "video_id               int64\n",
              "age                    int64\n",
              "gender              category\n",
              "profession          category\n",
              "followers              int64\n",
              "views                  int64\n",
              "engagement_score     float64\n",
              "dtype: object"
            ]
          },
          "metadata": {},
          "execution_count": 45
        }
      ]
    },
    {
      "cell_type": "code",
      "source": [
        "test.dtypes"
      ],
      "metadata": {
        "colab": {
          "base_uri": "https://localhost:8080/"
        },
        "id": "r8cd3LMMZbmJ",
        "outputId": "13f8141a-ccf5-4d1d-8ed2-21772971c012"
      },
      "execution_count": 46,
      "outputs": [
        {
          "output_type": "execute_result",
          "data": {
            "text/plain": [
              "row_id            int64\n",
              "user_id           int64\n",
              "category_id       int64\n",
              "video_id          int64\n",
              "age               int64\n",
              "gender         category\n",
              "profession     category\n",
              "followers         int64\n",
              "views             int64\n",
              "dtype: object"
            ]
          },
          "metadata": {},
          "execution_count": 46
        }
      ]
    },
    {
      "cell_type": "markdown",
      "source": [
        "### Feature Engineering"
      ],
      "metadata": {
        "id": "2aKp549z_AOS"
      }
    },
    {
      "cell_type": "code",
      "source": [
        "train['age'].value_counts()"
      ],
      "metadata": {
        "colab": {
          "base_uri": "https://localhost:8080/"
        },
        "id": "08xCHbGabLuP",
        "outputId": "218f6b9f-2ac8-4299-880c-babcd9bdb51c"
      },
      "execution_count": 47,
      "outputs": [
        {
          "output_type": "execute_result",
          "data": {
            "text/plain": [
              "18    4870\n",
              "19    4528\n",
              "20    4399\n",
              "17    4356\n",
              "16    4014\n",
              "15    3875\n",
              "21    3722\n",
              "22    3576\n",
              "14    3086\n",
              "23    2971\n",
              "24    2915\n",
              "31    2796\n",
              "30    2781\n",
              "33    2756\n",
              "32    2687\n",
              "28    2687\n",
              "29    2602\n",
              "13    2588\n",
              "34    2541\n",
              "26    2507\n",
              "25    2463\n",
              "35    2422\n",
              "27    2301\n",
              "36    2003\n",
              "37    1816\n",
              "12    1776\n",
              "38    1480\n",
              "39    1238\n",
              "11    1171\n",
              "40    1066\n",
              "41     834\n",
              "10     752\n",
              "42     675\n",
              "43     592\n",
              "44     449\n",
              "46     343\n",
              "45     340\n",
              "47     264\n",
              "48     197\n",
              "50     172\n",
              "49     131\n",
              "51      97\n",
              "53      81\n",
              "52      66\n",
              "54      51\n",
              "55      48\n",
              "57      40\n",
              "56      24\n",
              "58       8\n",
              "63       8\n",
              "68       6\n",
              "66       5\n",
              "64       5\n",
              "59       4\n",
              "60       3\n",
              "67       3\n",
              "61       3\n",
              "62       3\n",
              "Name: age, dtype: int64"
            ]
          },
          "metadata": {},
          "execution_count": 47
        }
      ]
    },
    {
      "cell_type": "code",
      "source": [
        "train['age_range'] = 'str'\n",
        "train['age_range'][(train['age']<= 40)] = 'Young Adults'\n",
        "train['age_range'][(train['age']>40) & (train['age']<=57) ] = 'Middle-aged Adults'\n",
        "train['age_range'][(train['age']>57)] = 'Old Adults'\n",
        "train['age_range'] = train['age_range'].astype('category')\n",
        "\n",
        "test['age_range'] = 'str'\n",
        "test['age_range'][(test['age']<= 40)] = 'Young Adults'\n",
        "test['age_range'][(test['age']>40) & (test['age']<=57) ] = 'Middle-aged Adults'\n",
        "test['age_range'][(test['age']>57)] = 'Old Adults'\n",
        "test['age_range'] = test['age_range'].astype('category')"
      ],
      "metadata": {
        "id": "ODH49TLVcV7T"
      },
      "execution_count": 48,
      "outputs": []
    },
    {
      "cell_type": "code",
      "source": [
        "train['followers'].describe()"
      ],
      "metadata": {
        "colab": {
          "base_uri": "https://localhost:8080/"
        },
        "id": "aZgCN0XCmiLh",
        "outputId": "92d2bdc9-023e-4fd3-9faa-3778b2df0cb0"
      },
      "execution_count": 49,
      "outputs": [
        {
          "output_type": "execute_result",
          "data": {
            "text/plain": [
              "count    89197.000000\n",
              "mean       252.460172\n",
              "std         46.094468\n",
              "min        160.000000\n",
              "25%        230.000000\n",
              "50%        240.000000\n",
              "75%        280.000000\n",
              "max        360.000000\n",
              "Name: followers, dtype: float64"
            ]
          },
          "metadata": {},
          "execution_count": 49
        }
      ]
    },
    {
      "cell_type": "code",
      "source": [
        "test['followers'].describe()"
      ],
      "metadata": {
        "colab": {
          "base_uri": "https://localhost:8080/"
        },
        "id": "Koj6bBIwy_Oa",
        "outputId": "d93ca622-9edd-42dd-a2fd-1eff5678f995"
      },
      "execution_count": 50,
      "outputs": [
        {
          "output_type": "execute_result",
          "data": {
            "text/plain": [
              "count    11121.000000\n",
              "mean       249.691574\n",
              "std         38.511469\n",
              "min        160.000000\n",
              "25%        230.000000\n",
              "50%        240.000000\n",
              "75%        270.000000\n",
              "max        360.000000\n",
              "Name: followers, dtype: float64"
            ]
          },
          "metadata": {},
          "execution_count": 50
        }
      ]
    },
    {
      "cell_type": "code",
      "source": [
        "train['followers_range'] = 'str'\n",
        "train['followers_range'][(train['followers']<= 240)] = 'Low Followers'\n",
        "train['followers_range'][(train['followers']>240)] = 'High Followers'\n",
        "train['followers_range'] = train['followers_range'].astype('category')\n",
        "\n",
        "test['followers_range'] = 'str'\n",
        "test['followers_range'][(test['followers']<= 240)] = 'Low Followers'\n",
        "test['followers_range'][(test['followers']>240)] = 'High Followers'\n",
        "test['followers_range'] = test['followers_range'].astype('category')"
      ],
      "metadata": {
        "id": "kB2GmBeFmWgg"
      },
      "execution_count": 51,
      "outputs": []
    },
    {
      "cell_type": "code",
      "source": [
        "train['views'].describe()"
      ],
      "metadata": {
        "colab": {
          "base_uri": "https://localhost:8080/"
        },
        "id": "mEtUObrdqxGt",
        "outputId": "1d710087-4f14-4e51-8d9d-5192fe40ad2d"
      },
      "execution_count": 52,
      "outputs": [
        {
          "output_type": "execute_result",
          "data": {
            "text/plain": [
              "count    89197.000000\n",
              "mean       502.980268\n",
              "std        268.569482\n",
              "min         30.000000\n",
              "25%        229.000000\n",
              "50%        467.000000\n",
              "75%        714.000000\n",
              "max       1000.000000\n",
              "Name: views, dtype: float64"
            ]
          },
          "metadata": {},
          "execution_count": 52
        }
      ]
    },
    {
      "cell_type": "code",
      "source": [
        "test['views'].describe()"
      ],
      "metadata": {
        "colab": {
          "base_uri": "https://localhost:8080/"
        },
        "id": "bnoE5_2P0VRF",
        "outputId": "a1ad99aa-11af-4148-a17a-5e759f7e6a0f"
      },
      "execution_count": 53,
      "outputs": [
        {
          "output_type": "execute_result",
          "data": {
            "text/plain": [
              "count    11121.000000\n",
              "mean       454.959986\n",
              "std        249.759038\n",
              "min         44.000000\n",
              "25%        229.000000\n",
              "50%        369.000000\n",
              "75%        662.000000\n",
              "max        990.000000\n",
              "Name: views, dtype: float64"
            ]
          },
          "metadata": {},
          "execution_count": 53
        }
      ]
    },
    {
      "cell_type": "code",
      "source": [
        "train['views_range'] = 'str'\n",
        "train['views_range'][(train['views']<= 467)] = 'Low Views'\n",
        "train['views_range'][(train['views']>467)] = 'High Views'\n",
        "train['views_range'] = train['views_range'].astype('category')\n",
        "\n",
        "test['views_range'] = 'str'\n",
        "test['views_range'][(test['views']<= 369)] = 'Low Views'\n",
        "test['views_range'][(test['views']>369)] = 'High Views'\n",
        "test['views_range'] = test['views_range'].astype('category')"
      ],
      "metadata": {
        "id": "0oY2gGcCq0mx"
      },
      "execution_count": 54,
      "outputs": []
    },
    {
      "cell_type": "code",
      "source": [
        "train['category_id'].value_counts()[:].describe()"
      ],
      "metadata": {
        "colab": {
          "base_uri": "https://localhost:8080/"
        },
        "id": "foXO9dAFtvkD",
        "outputId": "7e193c4b-ce0e-4894-a8a5-82f62d945ad8"
      },
      "execution_count": 55,
      "outputs": [
        {
          "output_type": "execute_result",
          "data": {
            "text/plain": [
              "count      47.000000\n",
              "mean     1897.808511\n",
              "std      1713.480651\n",
              "min        47.000000\n",
              "25%       546.500000\n",
              "50%      1309.000000\n",
              "75%      2691.500000\n",
              "max      8104.000000\n",
              "Name: category_id, dtype: float64"
            ]
          },
          "metadata": {},
          "execution_count": 55
        }
      ]
    },
    {
      "cell_type": "code",
      "source": [
        "# getting category ids which have less than 1309 records\n",
        "tmp = train['category_id'].value_counts()[:]\n",
        "categories = tmp[tmp<1309].index"
      ],
      "metadata": {
        "id": "LHKtZYcRvXf1"
      },
      "execution_count": 56,
      "outputs": []
    },
    {
      "cell_type": "code",
      "source": [
        "train['category_range'] = 'str'\n",
        "train['category_range'][train['category_id'].isin(categories[:])] = 'UnPopular Category'\n",
        "train['category_range'][~train['category_id'].isin(categories[:])] = 'Popular Category'\n",
        "train['category_range'] = train['category_range'].astype('category')"
      ],
      "metadata": {
        "id": "YTOhuZT3vdxC"
      },
      "execution_count": 57,
      "outputs": []
    },
    {
      "cell_type": "code",
      "source": [
        "test['category_id'].value_counts()[:].describe()"
      ],
      "metadata": {
        "colab": {
          "base_uri": "https://localhost:8080/"
        },
        "id": "UELr-cLRyAY4",
        "outputId": "868322d7-56ab-495e-afec-ccd9ce506fd6"
      },
      "execution_count": 58,
      "outputs": [
        {
          "output_type": "execute_result",
          "data": {
            "text/plain": [
              "count      23.000000\n",
              "mean      483.521739\n",
              "std       447.375973\n",
              "min        12.000000\n",
              "25%       159.000000\n",
              "50%       187.000000\n",
              "75%       762.500000\n",
              "max      1489.000000\n",
              "Name: category_id, dtype: float64"
            ]
          },
          "metadata": {},
          "execution_count": 58
        }
      ]
    },
    {
      "cell_type": "code",
      "source": [
        "# getting category ids which have less than 187 records\n",
        "tmp = test['category_id'].value_counts()[:]\n",
        "categories = tmp[tmp<187].index"
      ],
      "metadata": {
        "id": "X16THUgZ0pH2"
      },
      "execution_count": 59,
      "outputs": []
    },
    {
      "cell_type": "code",
      "source": [
        "test['category_range'] = 'str'\n",
        "test['category_range'][test['category_id'].isin(categories[:])] = 'UnPopular Category'\n",
        "test['category_range'][~test['category_id'].isin(categories[:])] = 'Popular Category'\n",
        "test['category_range'] = test['category_range'].astype('category')"
      ],
      "metadata": {
        "id": "wOy7Cik404aR"
      },
      "execution_count": 60,
      "outputs": []
    },
    {
      "cell_type": "code",
      "source": [
        "train['video_id'].value_counts()[:].describe()"
      ],
      "metadata": {
        "colab": {
          "base_uri": "https://localhost:8080/"
        },
        "id": "yp8955V13nKM",
        "outputId": "02dd1b8a-0927-4a53-d9b7-b459a27a1f7f"
      },
      "execution_count": 61,
      "outputs": [
        {
          "output_type": "execute_result",
          "data": {
            "text/plain": [
              "count     175.000000\n",
              "mean      509.697143\n",
              "std       259.594699\n",
              "min        47.000000\n",
              "25%       271.500000\n",
              "50%       586.000000\n",
              "75%       664.500000\n",
              "max      1337.000000\n",
              "Name: video_id, dtype: float64"
            ]
          },
          "metadata": {},
          "execution_count": 61
        }
      ]
    },
    {
      "cell_type": "code",
      "source": [
        "# getting video ids which have less than 586 records\n",
        "tmp = train['video_id'].value_counts()[:]\n",
        "videos = tmp[tmp<586].index"
      ],
      "metadata": {
        "id": "SyqF9gUh30vs"
      },
      "execution_count": 62,
      "outputs": []
    },
    {
      "cell_type": "code",
      "source": [
        "train['video_range'] = 'str'\n",
        "train['video_range'][train['video_id'].isin(videos[:])] = 'UnPopular Video'\n",
        "train['video_range'][~train['video_id'].isin(videos[:])] = 'Popular Video'\n",
        "train['video_range'] = train['video_range'].astype('category')"
      ],
      "metadata": {
        "id": "rD_2b-Ao4nrs"
      },
      "execution_count": 63,
      "outputs": []
    },
    {
      "cell_type": "code",
      "source": [
        "test['video_id'].value_counts()[:].describe()"
      ],
      "metadata": {
        "colab": {
          "base_uri": "https://localhost:8080/"
        },
        "id": "KCpMZLjl5UkZ",
        "outputId": "56514dde-a415-4a7b-af44-360a08647db9"
      },
      "execution_count": 64,
      "outputs": [
        {
          "output_type": "execute_result",
          "data": {
            "text/plain": [
              "count    128.000000\n",
              "mean      86.882812\n",
              "std       59.886588\n",
              "min        5.000000\n",
              "25%       35.000000\n",
              "50%       61.500000\n",
              "75%      148.000000\n",
              "max      232.000000\n",
              "Name: video_id, dtype: float64"
            ]
          },
          "metadata": {},
          "execution_count": 64
        }
      ]
    },
    {
      "cell_type": "code",
      "source": [
        "# getting video ids which have less than 61 records\n",
        "tmp = test['video_id'].value_counts()[:]\n",
        "videos = tmp[tmp<61].index"
      ],
      "metadata": {
        "id": "K_I9AGuK5YEO"
      },
      "execution_count": 65,
      "outputs": []
    },
    {
      "cell_type": "code",
      "source": [
        "test['video_range'] = 'str'\n",
        "test['video_range'][test['video_id'].isin(videos[:])] = 'UnPopular Video'\n",
        "test['video_range'][~test['video_id'].isin(videos[:])] = 'Popular Video'\n",
        "test['video_range'] = test['video_range'].astype('category')"
      ],
      "metadata": {
        "id": "txwV6y7p5Ymh"
      },
      "execution_count": 66,
      "outputs": []
    },
    {
      "cell_type": "code",
      "source": [
        "train.head()"
      ],
      "metadata": {
        "colab": {
          "base_uri": "https://localhost:8080/",
          "height": 0
        },
        "id": "if0H6eJZ_O2C",
        "outputId": "9e9111e0-b694-4ad8-b0d8-a31274d636ce"
      },
      "execution_count": 67,
      "outputs": [
        {
          "output_type": "execute_result",
          "data": {
            "text/html": [
              "\n",
              "  <div id=\"df-c5b6dafb-0bf6-4044-aa1f-0cbe44558299\">\n",
              "    <div class=\"colab-df-container\">\n",
              "      <div>\n",
              "<style scoped>\n",
              "    .dataframe tbody tr th:only-of-type {\n",
              "        vertical-align: middle;\n",
              "    }\n",
              "\n",
              "    .dataframe tbody tr th {\n",
              "        vertical-align: top;\n",
              "    }\n",
              "\n",
              "    .dataframe thead th {\n",
              "        text-align: right;\n",
              "    }\n",
              "</style>\n",
              "<table border=\"1\" class=\"dataframe\">\n",
              "  <thead>\n",
              "    <tr style=\"text-align: right;\">\n",
              "      <th></th>\n",
              "      <th>row_id</th>\n",
              "      <th>user_id</th>\n",
              "      <th>category_id</th>\n",
              "      <th>video_id</th>\n",
              "      <th>age</th>\n",
              "      <th>gender</th>\n",
              "      <th>profession</th>\n",
              "      <th>followers</th>\n",
              "      <th>views</th>\n",
              "      <th>engagement_score</th>\n",
              "      <th>age_range</th>\n",
              "      <th>followers_range</th>\n",
              "      <th>views_range</th>\n",
              "      <th>category_range</th>\n",
              "      <th>video_range</th>\n",
              "    </tr>\n",
              "  </thead>\n",
              "  <tbody>\n",
              "    <tr>\n",
              "      <th>0</th>\n",
              "      <td>1</td>\n",
              "      <td>19990</td>\n",
              "      <td>37</td>\n",
              "      <td>128</td>\n",
              "      <td>24</td>\n",
              "      <td>Male</td>\n",
              "      <td>Student</td>\n",
              "      <td>180</td>\n",
              "      <td>1000</td>\n",
              "      <td>4.33</td>\n",
              "      <td>Young Adults</td>\n",
              "      <td>Low Followers</td>\n",
              "      <td>High Views</td>\n",
              "      <td>UnPopular Category</td>\n",
              "      <td>UnPopular Video</td>\n",
              "    </tr>\n",
              "    <tr>\n",
              "      <th>1</th>\n",
              "      <td>2</td>\n",
              "      <td>5304</td>\n",
              "      <td>32</td>\n",
              "      <td>132</td>\n",
              "      <td>14</td>\n",
              "      <td>Female</td>\n",
              "      <td>Student</td>\n",
              "      <td>330</td>\n",
              "      <td>714</td>\n",
              "      <td>1.79</td>\n",
              "      <td>Young Adults</td>\n",
              "      <td>High Followers</td>\n",
              "      <td>High Views</td>\n",
              "      <td>Popular Category</td>\n",
              "      <td>Popular Video</td>\n",
              "    </tr>\n",
              "    <tr>\n",
              "      <th>2</th>\n",
              "      <td>3</td>\n",
              "      <td>1840</td>\n",
              "      <td>12</td>\n",
              "      <td>24</td>\n",
              "      <td>19</td>\n",
              "      <td>Male</td>\n",
              "      <td>Student</td>\n",
              "      <td>180</td>\n",
              "      <td>138</td>\n",
              "      <td>4.35</td>\n",
              "      <td>Young Adults</td>\n",
              "      <td>Low Followers</td>\n",
              "      <td>Low Views</td>\n",
              "      <td>Popular Category</td>\n",
              "      <td>UnPopular Video</td>\n",
              "    </tr>\n",
              "    <tr>\n",
              "      <th>3</th>\n",
              "      <td>4</td>\n",
              "      <td>12597</td>\n",
              "      <td>23</td>\n",
              "      <td>112</td>\n",
              "      <td>19</td>\n",
              "      <td>Male</td>\n",
              "      <td>Student</td>\n",
              "      <td>220</td>\n",
              "      <td>613</td>\n",
              "      <td>3.77</td>\n",
              "      <td>Young Adults</td>\n",
              "      <td>Low Followers</td>\n",
              "      <td>High Views</td>\n",
              "      <td>Popular Category</td>\n",
              "      <td>Popular Video</td>\n",
              "    </tr>\n",
              "    <tr>\n",
              "      <th>4</th>\n",
              "      <td>5</td>\n",
              "      <td>13626</td>\n",
              "      <td>23</td>\n",
              "      <td>112</td>\n",
              "      <td>27</td>\n",
              "      <td>Male</td>\n",
              "      <td>Working Professional</td>\n",
              "      <td>220</td>\n",
              "      <td>613</td>\n",
              "      <td>3.13</td>\n",
              "      <td>Young Adults</td>\n",
              "      <td>Low Followers</td>\n",
              "      <td>High Views</td>\n",
              "      <td>Popular Category</td>\n",
              "      <td>Popular Video</td>\n",
              "    </tr>\n",
              "  </tbody>\n",
              "</table>\n",
              "</div>\n",
              "      <button class=\"colab-df-convert\" onclick=\"convertToInteractive('df-c5b6dafb-0bf6-4044-aa1f-0cbe44558299')\"\n",
              "              title=\"Convert this dataframe to an interactive table.\"\n",
              "              style=\"display:none;\">\n",
              "        \n",
              "  <svg xmlns=\"http://www.w3.org/2000/svg\" height=\"24px\"viewBox=\"0 0 24 24\"\n",
              "       width=\"24px\">\n",
              "    <path d=\"M0 0h24v24H0V0z\" fill=\"none\"/>\n",
              "    <path d=\"M18.56 5.44l.94 2.06.94-2.06 2.06-.94-2.06-.94-.94-2.06-.94 2.06-2.06.94zm-11 1L8.5 8.5l.94-2.06 2.06-.94-2.06-.94L8.5 2.5l-.94 2.06-2.06.94zm10 10l.94 2.06.94-2.06 2.06-.94-2.06-.94-.94-2.06-.94 2.06-2.06.94z\"/><path d=\"M17.41 7.96l-1.37-1.37c-.4-.4-.92-.59-1.43-.59-.52 0-1.04.2-1.43.59L10.3 9.45l-7.72 7.72c-.78.78-.78 2.05 0 2.83L4 21.41c.39.39.9.59 1.41.59.51 0 1.02-.2 1.41-.59l7.78-7.78 2.81-2.81c.8-.78.8-2.07 0-2.86zM5.41 20L4 18.59l7.72-7.72 1.47 1.35L5.41 20z\"/>\n",
              "  </svg>\n",
              "      </button>\n",
              "      \n",
              "  <style>\n",
              "    .colab-df-container {\n",
              "      display:flex;\n",
              "      flex-wrap:wrap;\n",
              "      gap: 12px;\n",
              "    }\n",
              "\n",
              "    .colab-df-convert {\n",
              "      background-color: #E8F0FE;\n",
              "      border: none;\n",
              "      border-radius: 50%;\n",
              "      cursor: pointer;\n",
              "      display: none;\n",
              "      fill: #1967D2;\n",
              "      height: 32px;\n",
              "      padding: 0 0 0 0;\n",
              "      width: 32px;\n",
              "    }\n",
              "\n",
              "    .colab-df-convert:hover {\n",
              "      background-color: #E2EBFA;\n",
              "      box-shadow: 0px 1px 2px rgba(60, 64, 67, 0.3), 0px 1px 3px 1px rgba(60, 64, 67, 0.15);\n",
              "      fill: #174EA6;\n",
              "    }\n",
              "\n",
              "    [theme=dark] .colab-df-convert {\n",
              "      background-color: #3B4455;\n",
              "      fill: #D2E3FC;\n",
              "    }\n",
              "\n",
              "    [theme=dark] .colab-df-convert:hover {\n",
              "      background-color: #434B5C;\n",
              "      box-shadow: 0px 1px 3px 1px rgba(0, 0, 0, 0.15);\n",
              "      filter: drop-shadow(0px 1px 2px rgba(0, 0, 0, 0.3));\n",
              "      fill: #FFFFFF;\n",
              "    }\n",
              "  </style>\n",
              "\n",
              "      <script>\n",
              "        const buttonEl =\n",
              "          document.querySelector('#df-c5b6dafb-0bf6-4044-aa1f-0cbe44558299 button.colab-df-convert');\n",
              "        buttonEl.style.display =\n",
              "          google.colab.kernel.accessAllowed ? 'block' : 'none';\n",
              "\n",
              "        async function convertToInteractive(key) {\n",
              "          const element = document.querySelector('#df-c5b6dafb-0bf6-4044-aa1f-0cbe44558299');\n",
              "          const dataTable =\n",
              "            await google.colab.kernel.invokeFunction('convertToInteractive',\n",
              "                                                     [key], {});\n",
              "          if (!dataTable) return;\n",
              "\n",
              "          const docLinkHtml = 'Like what you see? Visit the ' +\n",
              "            '<a target=\"_blank\" href=https://colab.research.google.com/notebooks/data_table.ipynb>data table notebook</a>'\n",
              "            + ' to learn more about interactive tables.';\n",
              "          element.innerHTML = '';\n",
              "          dataTable['output_type'] = 'display_data';\n",
              "          await google.colab.output.renderOutput(dataTable, element);\n",
              "          const docLink = document.createElement('div');\n",
              "          docLink.innerHTML = docLinkHtml;\n",
              "          element.appendChild(docLink);\n",
              "        }\n",
              "      </script>\n",
              "    </div>\n",
              "  </div>\n",
              "  "
            ],
            "text/plain": [
              "   row_id  user_id  ...      category_range      video_range\n",
              "0       1    19990  ...  UnPopular Category  UnPopular Video\n",
              "1       2     5304  ...    Popular Category    Popular Video\n",
              "2       3     1840  ...    Popular Category  UnPopular Video\n",
              "3       4    12597  ...    Popular Category    Popular Video\n",
              "4       5    13626  ...    Popular Category    Popular Video\n",
              "\n",
              "[5 rows x 15 columns]"
            ]
          },
          "metadata": {},
          "execution_count": 67
        }
      ]
    },
    {
      "cell_type": "code",
      "source": [
        "test.head()"
      ],
      "metadata": {
        "colab": {
          "base_uri": "https://localhost:8080/",
          "height": 0
        },
        "id": "yvpH_SOtMoU7",
        "outputId": "4e92ad6e-aae9-4ad2-9361-25e0a78b5d21"
      },
      "execution_count": 68,
      "outputs": [
        {
          "output_type": "execute_result",
          "data": {
            "text/html": [
              "\n",
              "  <div id=\"df-f24bc2f0-d811-4b4b-a31c-55f2cb17452c\">\n",
              "    <div class=\"colab-df-container\">\n",
              "      <div>\n",
              "<style scoped>\n",
              "    .dataframe tbody tr th:only-of-type {\n",
              "        vertical-align: middle;\n",
              "    }\n",
              "\n",
              "    .dataframe tbody tr th {\n",
              "        vertical-align: top;\n",
              "    }\n",
              "\n",
              "    .dataframe thead th {\n",
              "        text-align: right;\n",
              "    }\n",
              "</style>\n",
              "<table border=\"1\" class=\"dataframe\">\n",
              "  <thead>\n",
              "    <tr style=\"text-align: right;\">\n",
              "      <th></th>\n",
              "      <th>row_id</th>\n",
              "      <th>user_id</th>\n",
              "      <th>category_id</th>\n",
              "      <th>video_id</th>\n",
              "      <th>age</th>\n",
              "      <th>gender</th>\n",
              "      <th>profession</th>\n",
              "      <th>followers</th>\n",
              "      <th>views</th>\n",
              "      <th>age_range</th>\n",
              "      <th>followers_range</th>\n",
              "      <th>views_range</th>\n",
              "      <th>category_range</th>\n",
              "      <th>video_range</th>\n",
              "    </tr>\n",
              "  </thead>\n",
              "  <tbody>\n",
              "    <tr>\n",
              "      <th>0</th>\n",
              "      <td>89198</td>\n",
              "      <td>7986</td>\n",
              "      <td>12</td>\n",
              "      <td>42</td>\n",
              "      <td>14</td>\n",
              "      <td>Male</td>\n",
              "      <td>Student</td>\n",
              "      <td>180</td>\n",
              "      <td>138</td>\n",
              "      <td>Young Adults</td>\n",
              "      <td>Low Followers</td>\n",
              "      <td>Low Views</td>\n",
              "      <td>Popular Category</td>\n",
              "      <td>Popular Video</td>\n",
              "    </tr>\n",
              "    <tr>\n",
              "      <th>1</th>\n",
              "      <td>89199</td>\n",
              "      <td>11278</td>\n",
              "      <td>34</td>\n",
              "      <td>115</td>\n",
              "      <td>14</td>\n",
              "      <td>Male</td>\n",
              "      <td>Student</td>\n",
              "      <td>230</td>\n",
              "      <td>840</td>\n",
              "      <td>Young Adults</td>\n",
              "      <td>Low Followers</td>\n",
              "      <td>High Views</td>\n",
              "      <td>Popular Category</td>\n",
              "      <td>Popular Video</td>\n",
              "    </tr>\n",
              "    <tr>\n",
              "      <th>2</th>\n",
              "      <td>89200</td>\n",
              "      <td>17245</td>\n",
              "      <td>8</td>\n",
              "      <td>110</td>\n",
              "      <td>44</td>\n",
              "      <td>Female</td>\n",
              "      <td>Working Professional</td>\n",
              "      <td>280</td>\n",
              "      <td>628</td>\n",
              "      <td>Middle-aged Adults</td>\n",
              "      <td>High Followers</td>\n",
              "      <td>High Views</td>\n",
              "      <td>Popular Category</td>\n",
              "      <td>Popular Video</td>\n",
              "    </tr>\n",
              "    <tr>\n",
              "      <th>3</th>\n",
              "      <td>89201</td>\n",
              "      <td>9851</td>\n",
              "      <td>16</td>\n",
              "      <td>137</td>\n",
              "      <td>18</td>\n",
              "      <td>Male</td>\n",
              "      <td>Student</td>\n",
              "      <td>270</td>\n",
              "      <td>462</td>\n",
              "      <td>Young Adults</td>\n",
              "      <td>High Followers</td>\n",
              "      <td>High Views</td>\n",
              "      <td>Popular Category</td>\n",
              "      <td>Popular Video</td>\n",
              "    </tr>\n",
              "    <tr>\n",
              "      <th>4</th>\n",
              "      <td>89202</td>\n",
              "      <td>16008</td>\n",
              "      <td>34</td>\n",
              "      <td>96</td>\n",
              "      <td>47</td>\n",
              "      <td>Female</td>\n",
              "      <td>Other</td>\n",
              "      <td>230</td>\n",
              "      <td>840</td>\n",
              "      <td>Middle-aged Adults</td>\n",
              "      <td>Low Followers</td>\n",
              "      <td>High Views</td>\n",
              "      <td>Popular Category</td>\n",
              "      <td>Popular Video</td>\n",
              "    </tr>\n",
              "  </tbody>\n",
              "</table>\n",
              "</div>\n",
              "      <button class=\"colab-df-convert\" onclick=\"convertToInteractive('df-f24bc2f0-d811-4b4b-a31c-55f2cb17452c')\"\n",
              "              title=\"Convert this dataframe to an interactive table.\"\n",
              "              style=\"display:none;\">\n",
              "        \n",
              "  <svg xmlns=\"http://www.w3.org/2000/svg\" height=\"24px\"viewBox=\"0 0 24 24\"\n",
              "       width=\"24px\">\n",
              "    <path d=\"M0 0h24v24H0V0z\" fill=\"none\"/>\n",
              "    <path d=\"M18.56 5.44l.94 2.06.94-2.06 2.06-.94-2.06-.94-.94-2.06-.94 2.06-2.06.94zm-11 1L8.5 8.5l.94-2.06 2.06-.94-2.06-.94L8.5 2.5l-.94 2.06-2.06.94zm10 10l.94 2.06.94-2.06 2.06-.94-2.06-.94-.94-2.06-.94 2.06-2.06.94z\"/><path d=\"M17.41 7.96l-1.37-1.37c-.4-.4-.92-.59-1.43-.59-.52 0-1.04.2-1.43.59L10.3 9.45l-7.72 7.72c-.78.78-.78 2.05 0 2.83L4 21.41c.39.39.9.59 1.41.59.51 0 1.02-.2 1.41-.59l7.78-7.78 2.81-2.81c.8-.78.8-2.07 0-2.86zM5.41 20L4 18.59l7.72-7.72 1.47 1.35L5.41 20z\"/>\n",
              "  </svg>\n",
              "      </button>\n",
              "      \n",
              "  <style>\n",
              "    .colab-df-container {\n",
              "      display:flex;\n",
              "      flex-wrap:wrap;\n",
              "      gap: 12px;\n",
              "    }\n",
              "\n",
              "    .colab-df-convert {\n",
              "      background-color: #E8F0FE;\n",
              "      border: none;\n",
              "      border-radius: 50%;\n",
              "      cursor: pointer;\n",
              "      display: none;\n",
              "      fill: #1967D2;\n",
              "      height: 32px;\n",
              "      padding: 0 0 0 0;\n",
              "      width: 32px;\n",
              "    }\n",
              "\n",
              "    .colab-df-convert:hover {\n",
              "      background-color: #E2EBFA;\n",
              "      box-shadow: 0px 1px 2px rgba(60, 64, 67, 0.3), 0px 1px 3px 1px rgba(60, 64, 67, 0.15);\n",
              "      fill: #174EA6;\n",
              "    }\n",
              "\n",
              "    [theme=dark] .colab-df-convert {\n",
              "      background-color: #3B4455;\n",
              "      fill: #D2E3FC;\n",
              "    }\n",
              "\n",
              "    [theme=dark] .colab-df-convert:hover {\n",
              "      background-color: #434B5C;\n",
              "      box-shadow: 0px 1px 3px 1px rgba(0, 0, 0, 0.15);\n",
              "      filter: drop-shadow(0px 1px 2px rgba(0, 0, 0, 0.3));\n",
              "      fill: #FFFFFF;\n",
              "    }\n",
              "  </style>\n",
              "\n",
              "      <script>\n",
              "        const buttonEl =\n",
              "          document.querySelector('#df-f24bc2f0-d811-4b4b-a31c-55f2cb17452c button.colab-df-convert');\n",
              "        buttonEl.style.display =\n",
              "          google.colab.kernel.accessAllowed ? 'block' : 'none';\n",
              "\n",
              "        async function convertToInteractive(key) {\n",
              "          const element = document.querySelector('#df-f24bc2f0-d811-4b4b-a31c-55f2cb17452c');\n",
              "          const dataTable =\n",
              "            await google.colab.kernel.invokeFunction('convertToInteractive',\n",
              "                                                     [key], {});\n",
              "          if (!dataTable) return;\n",
              "\n",
              "          const docLinkHtml = 'Like what you see? Visit the ' +\n",
              "            '<a target=\"_blank\" href=https://colab.research.google.com/notebooks/data_table.ipynb>data table notebook</a>'\n",
              "            + ' to learn more about interactive tables.';\n",
              "          element.innerHTML = '';\n",
              "          dataTable['output_type'] = 'display_data';\n",
              "          await google.colab.output.renderOutput(dataTable, element);\n",
              "          const docLink = document.createElement('div');\n",
              "          docLink.innerHTML = docLinkHtml;\n",
              "          element.appendChild(docLink);\n",
              "        }\n",
              "      </script>\n",
              "    </div>\n",
              "  </div>\n",
              "  "
            ],
            "text/plain": [
              "   row_id  user_id  category_id  ...  views_range    category_range    video_range\n",
              "0   89198     7986           12  ...    Low Views  Popular Category  Popular Video\n",
              "1   89199    11278           34  ...   High Views  Popular Category  Popular Video\n",
              "2   89200    17245            8  ...   High Views  Popular Category  Popular Video\n",
              "3   89201     9851           16  ...   High Views  Popular Category  Popular Video\n",
              "4   89202    16008           34  ...   High Views  Popular Category  Popular Video\n",
              "\n",
              "[5 rows x 14 columns]"
            ]
          },
          "metadata": {},
          "execution_count": 68
        }
      ]
    },
    {
      "cell_type": "markdown",
      "source": [
        "### Building Model"
      ],
      "metadata": {
        "id": "Rqgt2vC6_w8s"
      }
    },
    {
      "cell_type": "code",
      "source": [
        "# Handling categorical variables\n",
        "train = pd.get_dummies(train)\n",
        "train.head()"
      ],
      "metadata": {
        "colab": {
          "base_uri": "https://localhost:8080/",
          "height": 0
        },
        "id": "UfxDjAs1MpSi",
        "outputId": "784fdeed-c3f2-432b-b8a9-43eef882d4c5"
      },
      "execution_count": 69,
      "outputs": [
        {
          "output_type": "execute_result",
          "data": {
            "text/html": [
              "\n",
              "  <div id=\"df-71154610-6306-4ec6-8b11-e4f7b80aa734\">\n",
              "    <div class=\"colab-df-container\">\n",
              "      <div>\n",
              "<style scoped>\n",
              "    .dataframe tbody tr th:only-of-type {\n",
              "        vertical-align: middle;\n",
              "    }\n",
              "\n",
              "    .dataframe tbody tr th {\n",
              "        vertical-align: top;\n",
              "    }\n",
              "\n",
              "    .dataframe thead th {\n",
              "        text-align: right;\n",
              "    }\n",
              "</style>\n",
              "<table border=\"1\" class=\"dataframe\">\n",
              "  <thead>\n",
              "    <tr style=\"text-align: right;\">\n",
              "      <th></th>\n",
              "      <th>row_id</th>\n",
              "      <th>user_id</th>\n",
              "      <th>category_id</th>\n",
              "      <th>video_id</th>\n",
              "      <th>age</th>\n",
              "      <th>followers</th>\n",
              "      <th>views</th>\n",
              "      <th>engagement_score</th>\n",
              "      <th>gender_Female</th>\n",
              "      <th>gender_Male</th>\n",
              "      <th>profession_Other</th>\n",
              "      <th>profession_Student</th>\n",
              "      <th>profession_Working Professional</th>\n",
              "      <th>age_range_Middle-aged Adults</th>\n",
              "      <th>age_range_Old Adults</th>\n",
              "      <th>age_range_Young Adults</th>\n",
              "      <th>followers_range_High Followers</th>\n",
              "      <th>followers_range_Low Followers</th>\n",
              "      <th>views_range_High Views</th>\n",
              "      <th>views_range_Low Views</th>\n",
              "      <th>category_range_Popular Category</th>\n",
              "      <th>category_range_UnPopular Category</th>\n",
              "      <th>video_range_Popular Video</th>\n",
              "      <th>video_range_UnPopular Video</th>\n",
              "    </tr>\n",
              "  </thead>\n",
              "  <tbody>\n",
              "    <tr>\n",
              "      <th>0</th>\n",
              "      <td>1</td>\n",
              "      <td>19990</td>\n",
              "      <td>37</td>\n",
              "      <td>128</td>\n",
              "      <td>24</td>\n",
              "      <td>180</td>\n",
              "      <td>1000</td>\n",
              "      <td>4.33</td>\n",
              "      <td>0</td>\n",
              "      <td>1</td>\n",
              "      <td>0</td>\n",
              "      <td>1</td>\n",
              "      <td>0</td>\n",
              "      <td>0</td>\n",
              "      <td>0</td>\n",
              "      <td>1</td>\n",
              "      <td>0</td>\n",
              "      <td>1</td>\n",
              "      <td>1</td>\n",
              "      <td>0</td>\n",
              "      <td>0</td>\n",
              "      <td>1</td>\n",
              "      <td>0</td>\n",
              "      <td>1</td>\n",
              "    </tr>\n",
              "    <tr>\n",
              "      <th>1</th>\n",
              "      <td>2</td>\n",
              "      <td>5304</td>\n",
              "      <td>32</td>\n",
              "      <td>132</td>\n",
              "      <td>14</td>\n",
              "      <td>330</td>\n",
              "      <td>714</td>\n",
              "      <td>1.79</td>\n",
              "      <td>1</td>\n",
              "      <td>0</td>\n",
              "      <td>0</td>\n",
              "      <td>1</td>\n",
              "      <td>0</td>\n",
              "      <td>0</td>\n",
              "      <td>0</td>\n",
              "      <td>1</td>\n",
              "      <td>1</td>\n",
              "      <td>0</td>\n",
              "      <td>1</td>\n",
              "      <td>0</td>\n",
              "      <td>1</td>\n",
              "      <td>0</td>\n",
              "      <td>1</td>\n",
              "      <td>0</td>\n",
              "    </tr>\n",
              "    <tr>\n",
              "      <th>2</th>\n",
              "      <td>3</td>\n",
              "      <td>1840</td>\n",
              "      <td>12</td>\n",
              "      <td>24</td>\n",
              "      <td>19</td>\n",
              "      <td>180</td>\n",
              "      <td>138</td>\n",
              "      <td>4.35</td>\n",
              "      <td>0</td>\n",
              "      <td>1</td>\n",
              "      <td>0</td>\n",
              "      <td>1</td>\n",
              "      <td>0</td>\n",
              "      <td>0</td>\n",
              "      <td>0</td>\n",
              "      <td>1</td>\n",
              "      <td>0</td>\n",
              "      <td>1</td>\n",
              "      <td>0</td>\n",
              "      <td>1</td>\n",
              "      <td>1</td>\n",
              "      <td>0</td>\n",
              "      <td>0</td>\n",
              "      <td>1</td>\n",
              "    </tr>\n",
              "    <tr>\n",
              "      <th>3</th>\n",
              "      <td>4</td>\n",
              "      <td>12597</td>\n",
              "      <td>23</td>\n",
              "      <td>112</td>\n",
              "      <td>19</td>\n",
              "      <td>220</td>\n",
              "      <td>613</td>\n",
              "      <td>3.77</td>\n",
              "      <td>0</td>\n",
              "      <td>1</td>\n",
              "      <td>0</td>\n",
              "      <td>1</td>\n",
              "      <td>0</td>\n",
              "      <td>0</td>\n",
              "      <td>0</td>\n",
              "      <td>1</td>\n",
              "      <td>0</td>\n",
              "      <td>1</td>\n",
              "      <td>1</td>\n",
              "      <td>0</td>\n",
              "      <td>1</td>\n",
              "      <td>0</td>\n",
              "      <td>1</td>\n",
              "      <td>0</td>\n",
              "    </tr>\n",
              "    <tr>\n",
              "      <th>4</th>\n",
              "      <td>5</td>\n",
              "      <td>13626</td>\n",
              "      <td>23</td>\n",
              "      <td>112</td>\n",
              "      <td>27</td>\n",
              "      <td>220</td>\n",
              "      <td>613</td>\n",
              "      <td>3.13</td>\n",
              "      <td>0</td>\n",
              "      <td>1</td>\n",
              "      <td>0</td>\n",
              "      <td>0</td>\n",
              "      <td>1</td>\n",
              "      <td>0</td>\n",
              "      <td>0</td>\n",
              "      <td>1</td>\n",
              "      <td>0</td>\n",
              "      <td>1</td>\n",
              "      <td>1</td>\n",
              "      <td>0</td>\n",
              "      <td>1</td>\n",
              "      <td>0</td>\n",
              "      <td>1</td>\n",
              "      <td>0</td>\n",
              "    </tr>\n",
              "  </tbody>\n",
              "</table>\n",
              "</div>\n",
              "      <button class=\"colab-df-convert\" onclick=\"convertToInteractive('df-71154610-6306-4ec6-8b11-e4f7b80aa734')\"\n",
              "              title=\"Convert this dataframe to an interactive table.\"\n",
              "              style=\"display:none;\">\n",
              "        \n",
              "  <svg xmlns=\"http://www.w3.org/2000/svg\" height=\"24px\"viewBox=\"0 0 24 24\"\n",
              "       width=\"24px\">\n",
              "    <path d=\"M0 0h24v24H0V0z\" fill=\"none\"/>\n",
              "    <path d=\"M18.56 5.44l.94 2.06.94-2.06 2.06-.94-2.06-.94-.94-2.06-.94 2.06-2.06.94zm-11 1L8.5 8.5l.94-2.06 2.06-.94-2.06-.94L8.5 2.5l-.94 2.06-2.06.94zm10 10l.94 2.06.94-2.06 2.06-.94-2.06-.94-.94-2.06-.94 2.06-2.06.94z\"/><path d=\"M17.41 7.96l-1.37-1.37c-.4-.4-.92-.59-1.43-.59-.52 0-1.04.2-1.43.59L10.3 9.45l-7.72 7.72c-.78.78-.78 2.05 0 2.83L4 21.41c.39.39.9.59 1.41.59.51 0 1.02-.2 1.41-.59l7.78-7.78 2.81-2.81c.8-.78.8-2.07 0-2.86zM5.41 20L4 18.59l7.72-7.72 1.47 1.35L5.41 20z\"/>\n",
              "  </svg>\n",
              "      </button>\n",
              "      \n",
              "  <style>\n",
              "    .colab-df-container {\n",
              "      display:flex;\n",
              "      flex-wrap:wrap;\n",
              "      gap: 12px;\n",
              "    }\n",
              "\n",
              "    .colab-df-convert {\n",
              "      background-color: #E8F0FE;\n",
              "      border: none;\n",
              "      border-radius: 50%;\n",
              "      cursor: pointer;\n",
              "      display: none;\n",
              "      fill: #1967D2;\n",
              "      height: 32px;\n",
              "      padding: 0 0 0 0;\n",
              "      width: 32px;\n",
              "    }\n",
              "\n",
              "    .colab-df-convert:hover {\n",
              "      background-color: #E2EBFA;\n",
              "      box-shadow: 0px 1px 2px rgba(60, 64, 67, 0.3), 0px 1px 3px 1px rgba(60, 64, 67, 0.15);\n",
              "      fill: #174EA6;\n",
              "    }\n",
              "\n",
              "    [theme=dark] .colab-df-convert {\n",
              "      background-color: #3B4455;\n",
              "      fill: #D2E3FC;\n",
              "    }\n",
              "\n",
              "    [theme=dark] .colab-df-convert:hover {\n",
              "      background-color: #434B5C;\n",
              "      box-shadow: 0px 1px 3px 1px rgba(0, 0, 0, 0.15);\n",
              "      filter: drop-shadow(0px 1px 2px rgba(0, 0, 0, 0.3));\n",
              "      fill: #FFFFFF;\n",
              "    }\n",
              "  </style>\n",
              "\n",
              "      <script>\n",
              "        const buttonEl =\n",
              "          document.querySelector('#df-71154610-6306-4ec6-8b11-e4f7b80aa734 button.colab-df-convert');\n",
              "        buttonEl.style.display =\n",
              "          google.colab.kernel.accessAllowed ? 'block' : 'none';\n",
              "\n",
              "        async function convertToInteractive(key) {\n",
              "          const element = document.querySelector('#df-71154610-6306-4ec6-8b11-e4f7b80aa734');\n",
              "          const dataTable =\n",
              "            await google.colab.kernel.invokeFunction('convertToInteractive',\n",
              "                                                     [key], {});\n",
              "          if (!dataTable) return;\n",
              "\n",
              "          const docLinkHtml = 'Like what you see? Visit the ' +\n",
              "            '<a target=\"_blank\" href=https://colab.research.google.com/notebooks/data_table.ipynb>data table notebook</a>'\n",
              "            + ' to learn more about interactive tables.';\n",
              "          element.innerHTML = '';\n",
              "          dataTable['output_type'] = 'display_data';\n",
              "          await google.colab.output.renderOutput(dataTable, element);\n",
              "          const docLink = document.createElement('div');\n",
              "          docLink.innerHTML = docLinkHtml;\n",
              "          element.appendChild(docLink);\n",
              "        }\n",
              "      </script>\n",
              "    </div>\n",
              "  </div>\n",
              "  "
            ],
            "text/plain": [
              "   row_id  user_id  ...  video_range_Popular Video  video_range_UnPopular Video\n",
              "0       1    19990  ...                          0                            1\n",
              "1       2     5304  ...                          1                            0\n",
              "2       3     1840  ...                          0                            1\n",
              "3       4    12597  ...                          1                            0\n",
              "4       5    13626  ...                          1                            0\n",
              "\n",
              "[5 rows x 24 columns]"
            ]
          },
          "metadata": {},
          "execution_count": 69
        }
      ]
    },
    {
      "cell_type": "code",
      "source": [
        "# Handling categorical variables\n",
        "test = pd.get_dummies(test)\n",
        "test.head()"
      ],
      "metadata": {
        "colab": {
          "base_uri": "https://localhost:8080/",
          "height": 0
        },
        "id": "gVimyy37MrZF",
        "outputId": "2be3fbe5-46d2-49ec-8fee-618b637f1633"
      },
      "execution_count": 70,
      "outputs": [
        {
          "output_type": "execute_result",
          "data": {
            "text/html": [
              "\n",
              "  <div id=\"df-5db9ca91-cdcc-4772-a3f8-6b6b335675f6\">\n",
              "    <div class=\"colab-df-container\">\n",
              "      <div>\n",
              "<style scoped>\n",
              "    .dataframe tbody tr th:only-of-type {\n",
              "        vertical-align: middle;\n",
              "    }\n",
              "\n",
              "    .dataframe tbody tr th {\n",
              "        vertical-align: top;\n",
              "    }\n",
              "\n",
              "    .dataframe thead th {\n",
              "        text-align: right;\n",
              "    }\n",
              "</style>\n",
              "<table border=\"1\" class=\"dataframe\">\n",
              "  <thead>\n",
              "    <tr style=\"text-align: right;\">\n",
              "      <th></th>\n",
              "      <th>row_id</th>\n",
              "      <th>user_id</th>\n",
              "      <th>category_id</th>\n",
              "      <th>video_id</th>\n",
              "      <th>age</th>\n",
              "      <th>followers</th>\n",
              "      <th>views</th>\n",
              "      <th>gender_Female</th>\n",
              "      <th>gender_Male</th>\n",
              "      <th>profession_Other</th>\n",
              "      <th>profession_Student</th>\n",
              "      <th>profession_Working Professional</th>\n",
              "      <th>age_range_Middle-aged Adults</th>\n",
              "      <th>age_range_Old Adults</th>\n",
              "      <th>age_range_Young Adults</th>\n",
              "      <th>followers_range_High Followers</th>\n",
              "      <th>followers_range_Low Followers</th>\n",
              "      <th>views_range_High Views</th>\n",
              "      <th>views_range_Low Views</th>\n",
              "      <th>category_range_Popular Category</th>\n",
              "      <th>category_range_UnPopular Category</th>\n",
              "      <th>video_range_Popular Video</th>\n",
              "      <th>video_range_UnPopular Video</th>\n",
              "    </tr>\n",
              "  </thead>\n",
              "  <tbody>\n",
              "    <tr>\n",
              "      <th>0</th>\n",
              "      <td>89198</td>\n",
              "      <td>7986</td>\n",
              "      <td>12</td>\n",
              "      <td>42</td>\n",
              "      <td>14</td>\n",
              "      <td>180</td>\n",
              "      <td>138</td>\n",
              "      <td>0</td>\n",
              "      <td>1</td>\n",
              "      <td>0</td>\n",
              "      <td>1</td>\n",
              "      <td>0</td>\n",
              "      <td>0</td>\n",
              "      <td>0</td>\n",
              "      <td>1</td>\n",
              "      <td>0</td>\n",
              "      <td>1</td>\n",
              "      <td>0</td>\n",
              "      <td>1</td>\n",
              "      <td>1</td>\n",
              "      <td>0</td>\n",
              "      <td>1</td>\n",
              "      <td>0</td>\n",
              "    </tr>\n",
              "    <tr>\n",
              "      <th>1</th>\n",
              "      <td>89199</td>\n",
              "      <td>11278</td>\n",
              "      <td>34</td>\n",
              "      <td>115</td>\n",
              "      <td>14</td>\n",
              "      <td>230</td>\n",
              "      <td>840</td>\n",
              "      <td>0</td>\n",
              "      <td>1</td>\n",
              "      <td>0</td>\n",
              "      <td>1</td>\n",
              "      <td>0</td>\n",
              "      <td>0</td>\n",
              "      <td>0</td>\n",
              "      <td>1</td>\n",
              "      <td>0</td>\n",
              "      <td>1</td>\n",
              "      <td>1</td>\n",
              "      <td>0</td>\n",
              "      <td>1</td>\n",
              "      <td>0</td>\n",
              "      <td>1</td>\n",
              "      <td>0</td>\n",
              "    </tr>\n",
              "    <tr>\n",
              "      <th>2</th>\n",
              "      <td>89200</td>\n",
              "      <td>17245</td>\n",
              "      <td>8</td>\n",
              "      <td>110</td>\n",
              "      <td>44</td>\n",
              "      <td>280</td>\n",
              "      <td>628</td>\n",
              "      <td>1</td>\n",
              "      <td>0</td>\n",
              "      <td>0</td>\n",
              "      <td>0</td>\n",
              "      <td>1</td>\n",
              "      <td>1</td>\n",
              "      <td>0</td>\n",
              "      <td>0</td>\n",
              "      <td>1</td>\n",
              "      <td>0</td>\n",
              "      <td>1</td>\n",
              "      <td>0</td>\n",
              "      <td>1</td>\n",
              "      <td>0</td>\n",
              "      <td>1</td>\n",
              "      <td>0</td>\n",
              "    </tr>\n",
              "    <tr>\n",
              "      <th>3</th>\n",
              "      <td>89201</td>\n",
              "      <td>9851</td>\n",
              "      <td>16</td>\n",
              "      <td>137</td>\n",
              "      <td>18</td>\n",
              "      <td>270</td>\n",
              "      <td>462</td>\n",
              "      <td>0</td>\n",
              "      <td>1</td>\n",
              "      <td>0</td>\n",
              "      <td>1</td>\n",
              "      <td>0</td>\n",
              "      <td>0</td>\n",
              "      <td>0</td>\n",
              "      <td>1</td>\n",
              "      <td>1</td>\n",
              "      <td>0</td>\n",
              "      <td>1</td>\n",
              "      <td>0</td>\n",
              "      <td>1</td>\n",
              "      <td>0</td>\n",
              "      <td>1</td>\n",
              "      <td>0</td>\n",
              "    </tr>\n",
              "    <tr>\n",
              "      <th>4</th>\n",
              "      <td>89202</td>\n",
              "      <td>16008</td>\n",
              "      <td>34</td>\n",
              "      <td>96</td>\n",
              "      <td>47</td>\n",
              "      <td>230</td>\n",
              "      <td>840</td>\n",
              "      <td>1</td>\n",
              "      <td>0</td>\n",
              "      <td>1</td>\n",
              "      <td>0</td>\n",
              "      <td>0</td>\n",
              "      <td>1</td>\n",
              "      <td>0</td>\n",
              "      <td>0</td>\n",
              "      <td>0</td>\n",
              "      <td>1</td>\n",
              "      <td>1</td>\n",
              "      <td>0</td>\n",
              "      <td>1</td>\n",
              "      <td>0</td>\n",
              "      <td>1</td>\n",
              "      <td>0</td>\n",
              "    </tr>\n",
              "  </tbody>\n",
              "</table>\n",
              "</div>\n",
              "      <button class=\"colab-df-convert\" onclick=\"convertToInteractive('df-5db9ca91-cdcc-4772-a3f8-6b6b335675f6')\"\n",
              "              title=\"Convert this dataframe to an interactive table.\"\n",
              "              style=\"display:none;\">\n",
              "        \n",
              "  <svg xmlns=\"http://www.w3.org/2000/svg\" height=\"24px\"viewBox=\"0 0 24 24\"\n",
              "       width=\"24px\">\n",
              "    <path d=\"M0 0h24v24H0V0z\" fill=\"none\"/>\n",
              "    <path d=\"M18.56 5.44l.94 2.06.94-2.06 2.06-.94-2.06-.94-.94-2.06-.94 2.06-2.06.94zm-11 1L8.5 8.5l.94-2.06 2.06-.94-2.06-.94L8.5 2.5l-.94 2.06-2.06.94zm10 10l.94 2.06.94-2.06 2.06-.94-2.06-.94-.94-2.06-.94 2.06-2.06.94z\"/><path d=\"M17.41 7.96l-1.37-1.37c-.4-.4-.92-.59-1.43-.59-.52 0-1.04.2-1.43.59L10.3 9.45l-7.72 7.72c-.78.78-.78 2.05 0 2.83L4 21.41c.39.39.9.59 1.41.59.51 0 1.02-.2 1.41-.59l7.78-7.78 2.81-2.81c.8-.78.8-2.07 0-2.86zM5.41 20L4 18.59l7.72-7.72 1.47 1.35L5.41 20z\"/>\n",
              "  </svg>\n",
              "      </button>\n",
              "      \n",
              "  <style>\n",
              "    .colab-df-container {\n",
              "      display:flex;\n",
              "      flex-wrap:wrap;\n",
              "      gap: 12px;\n",
              "    }\n",
              "\n",
              "    .colab-df-convert {\n",
              "      background-color: #E8F0FE;\n",
              "      border: none;\n",
              "      border-radius: 50%;\n",
              "      cursor: pointer;\n",
              "      display: none;\n",
              "      fill: #1967D2;\n",
              "      height: 32px;\n",
              "      padding: 0 0 0 0;\n",
              "      width: 32px;\n",
              "    }\n",
              "\n",
              "    .colab-df-convert:hover {\n",
              "      background-color: #E2EBFA;\n",
              "      box-shadow: 0px 1px 2px rgba(60, 64, 67, 0.3), 0px 1px 3px 1px rgba(60, 64, 67, 0.15);\n",
              "      fill: #174EA6;\n",
              "    }\n",
              "\n",
              "    [theme=dark] .colab-df-convert {\n",
              "      background-color: #3B4455;\n",
              "      fill: #D2E3FC;\n",
              "    }\n",
              "\n",
              "    [theme=dark] .colab-df-convert:hover {\n",
              "      background-color: #434B5C;\n",
              "      box-shadow: 0px 1px 3px 1px rgba(0, 0, 0, 0.15);\n",
              "      filter: drop-shadow(0px 1px 2px rgba(0, 0, 0, 0.3));\n",
              "      fill: #FFFFFF;\n",
              "    }\n",
              "  </style>\n",
              "\n",
              "      <script>\n",
              "        const buttonEl =\n",
              "          document.querySelector('#df-5db9ca91-cdcc-4772-a3f8-6b6b335675f6 button.colab-df-convert');\n",
              "        buttonEl.style.display =\n",
              "          google.colab.kernel.accessAllowed ? 'block' : 'none';\n",
              "\n",
              "        async function convertToInteractive(key) {\n",
              "          const element = document.querySelector('#df-5db9ca91-cdcc-4772-a3f8-6b6b335675f6');\n",
              "          const dataTable =\n",
              "            await google.colab.kernel.invokeFunction('convertToInteractive',\n",
              "                                                     [key], {});\n",
              "          if (!dataTable) return;\n",
              "\n",
              "          const docLinkHtml = 'Like what you see? Visit the ' +\n",
              "            '<a target=\"_blank\" href=https://colab.research.google.com/notebooks/data_table.ipynb>data table notebook</a>'\n",
              "            + ' to learn more about interactive tables.';\n",
              "          element.innerHTML = '';\n",
              "          dataTable['output_type'] = 'display_data';\n",
              "          await google.colab.output.renderOutput(dataTable, element);\n",
              "          const docLink = document.createElement('div');\n",
              "          docLink.innerHTML = docLinkHtml;\n",
              "          element.appendChild(docLink);\n",
              "        }\n",
              "      </script>\n",
              "    </div>\n",
              "  </div>\n",
              "  "
            ],
            "text/plain": [
              "   row_id  user_id  ...  video_range_Popular Video  video_range_UnPopular Video\n",
              "0   89198     7986  ...                          1                            0\n",
              "1   89199    11278  ...                          1                            0\n",
              "2   89200    17245  ...                          1                            0\n",
              "3   89201     9851  ...                          1                            0\n",
              "4   89202    16008  ...                          1                            0\n",
              "\n",
              "[5 rows x 23 columns]"
            ]
          },
          "metadata": {},
          "execution_count": 70
        }
      ]
    },
    {
      "cell_type": "code",
      "source": [
        "train_cleaned=train.drop('row_id',axis=1) \n",
        "test_cleaned=test.drop('row_id',axis=1)"
      ],
      "metadata": {
        "id": "bFSbxoEIM6cV"
      },
      "execution_count": 71,
      "outputs": []
    },
    {
      "cell_type": "code",
      "source": [
        "train_cleaned.head()"
      ],
      "metadata": {
        "colab": {
          "base_uri": "https://localhost:8080/",
          "height": 0
        },
        "id": "JmrSUIUDNEVB",
        "outputId": "addd290c-215e-4fa0-e09c-50e1ce0a11d5"
      },
      "execution_count": 72,
      "outputs": [
        {
          "output_type": "execute_result",
          "data": {
            "text/html": [
              "\n",
              "  <div id=\"df-6fc0f570-950b-4fc0-a0e1-b9bb97a63882\">\n",
              "    <div class=\"colab-df-container\">\n",
              "      <div>\n",
              "<style scoped>\n",
              "    .dataframe tbody tr th:only-of-type {\n",
              "        vertical-align: middle;\n",
              "    }\n",
              "\n",
              "    .dataframe tbody tr th {\n",
              "        vertical-align: top;\n",
              "    }\n",
              "\n",
              "    .dataframe thead th {\n",
              "        text-align: right;\n",
              "    }\n",
              "</style>\n",
              "<table border=\"1\" class=\"dataframe\">\n",
              "  <thead>\n",
              "    <tr style=\"text-align: right;\">\n",
              "      <th></th>\n",
              "      <th>user_id</th>\n",
              "      <th>category_id</th>\n",
              "      <th>video_id</th>\n",
              "      <th>age</th>\n",
              "      <th>followers</th>\n",
              "      <th>views</th>\n",
              "      <th>engagement_score</th>\n",
              "      <th>gender_Female</th>\n",
              "      <th>gender_Male</th>\n",
              "      <th>profession_Other</th>\n",
              "      <th>profession_Student</th>\n",
              "      <th>profession_Working Professional</th>\n",
              "      <th>age_range_Middle-aged Adults</th>\n",
              "      <th>age_range_Old Adults</th>\n",
              "      <th>age_range_Young Adults</th>\n",
              "      <th>followers_range_High Followers</th>\n",
              "      <th>followers_range_Low Followers</th>\n",
              "      <th>views_range_High Views</th>\n",
              "      <th>views_range_Low Views</th>\n",
              "      <th>category_range_Popular Category</th>\n",
              "      <th>category_range_UnPopular Category</th>\n",
              "      <th>video_range_Popular Video</th>\n",
              "      <th>video_range_UnPopular Video</th>\n",
              "    </tr>\n",
              "  </thead>\n",
              "  <tbody>\n",
              "    <tr>\n",
              "      <th>0</th>\n",
              "      <td>19990</td>\n",
              "      <td>37</td>\n",
              "      <td>128</td>\n",
              "      <td>24</td>\n",
              "      <td>180</td>\n",
              "      <td>1000</td>\n",
              "      <td>4.33</td>\n",
              "      <td>0</td>\n",
              "      <td>1</td>\n",
              "      <td>0</td>\n",
              "      <td>1</td>\n",
              "      <td>0</td>\n",
              "      <td>0</td>\n",
              "      <td>0</td>\n",
              "      <td>1</td>\n",
              "      <td>0</td>\n",
              "      <td>1</td>\n",
              "      <td>1</td>\n",
              "      <td>0</td>\n",
              "      <td>0</td>\n",
              "      <td>1</td>\n",
              "      <td>0</td>\n",
              "      <td>1</td>\n",
              "    </tr>\n",
              "    <tr>\n",
              "      <th>1</th>\n",
              "      <td>5304</td>\n",
              "      <td>32</td>\n",
              "      <td>132</td>\n",
              "      <td>14</td>\n",
              "      <td>330</td>\n",
              "      <td>714</td>\n",
              "      <td>1.79</td>\n",
              "      <td>1</td>\n",
              "      <td>0</td>\n",
              "      <td>0</td>\n",
              "      <td>1</td>\n",
              "      <td>0</td>\n",
              "      <td>0</td>\n",
              "      <td>0</td>\n",
              "      <td>1</td>\n",
              "      <td>1</td>\n",
              "      <td>0</td>\n",
              "      <td>1</td>\n",
              "      <td>0</td>\n",
              "      <td>1</td>\n",
              "      <td>0</td>\n",
              "      <td>1</td>\n",
              "      <td>0</td>\n",
              "    </tr>\n",
              "    <tr>\n",
              "      <th>2</th>\n",
              "      <td>1840</td>\n",
              "      <td>12</td>\n",
              "      <td>24</td>\n",
              "      <td>19</td>\n",
              "      <td>180</td>\n",
              "      <td>138</td>\n",
              "      <td>4.35</td>\n",
              "      <td>0</td>\n",
              "      <td>1</td>\n",
              "      <td>0</td>\n",
              "      <td>1</td>\n",
              "      <td>0</td>\n",
              "      <td>0</td>\n",
              "      <td>0</td>\n",
              "      <td>1</td>\n",
              "      <td>0</td>\n",
              "      <td>1</td>\n",
              "      <td>0</td>\n",
              "      <td>1</td>\n",
              "      <td>1</td>\n",
              "      <td>0</td>\n",
              "      <td>0</td>\n",
              "      <td>1</td>\n",
              "    </tr>\n",
              "    <tr>\n",
              "      <th>3</th>\n",
              "      <td>12597</td>\n",
              "      <td>23</td>\n",
              "      <td>112</td>\n",
              "      <td>19</td>\n",
              "      <td>220</td>\n",
              "      <td>613</td>\n",
              "      <td>3.77</td>\n",
              "      <td>0</td>\n",
              "      <td>1</td>\n",
              "      <td>0</td>\n",
              "      <td>1</td>\n",
              "      <td>0</td>\n",
              "      <td>0</td>\n",
              "      <td>0</td>\n",
              "      <td>1</td>\n",
              "      <td>0</td>\n",
              "      <td>1</td>\n",
              "      <td>1</td>\n",
              "      <td>0</td>\n",
              "      <td>1</td>\n",
              "      <td>0</td>\n",
              "      <td>1</td>\n",
              "      <td>0</td>\n",
              "    </tr>\n",
              "    <tr>\n",
              "      <th>4</th>\n",
              "      <td>13626</td>\n",
              "      <td>23</td>\n",
              "      <td>112</td>\n",
              "      <td>27</td>\n",
              "      <td>220</td>\n",
              "      <td>613</td>\n",
              "      <td>3.13</td>\n",
              "      <td>0</td>\n",
              "      <td>1</td>\n",
              "      <td>0</td>\n",
              "      <td>0</td>\n",
              "      <td>1</td>\n",
              "      <td>0</td>\n",
              "      <td>0</td>\n",
              "      <td>1</td>\n",
              "      <td>0</td>\n",
              "      <td>1</td>\n",
              "      <td>1</td>\n",
              "      <td>0</td>\n",
              "      <td>1</td>\n",
              "      <td>0</td>\n",
              "      <td>1</td>\n",
              "      <td>0</td>\n",
              "    </tr>\n",
              "  </tbody>\n",
              "</table>\n",
              "</div>\n",
              "      <button class=\"colab-df-convert\" onclick=\"convertToInteractive('df-6fc0f570-950b-4fc0-a0e1-b9bb97a63882')\"\n",
              "              title=\"Convert this dataframe to an interactive table.\"\n",
              "              style=\"display:none;\">\n",
              "        \n",
              "  <svg xmlns=\"http://www.w3.org/2000/svg\" height=\"24px\"viewBox=\"0 0 24 24\"\n",
              "       width=\"24px\">\n",
              "    <path d=\"M0 0h24v24H0V0z\" fill=\"none\"/>\n",
              "    <path d=\"M18.56 5.44l.94 2.06.94-2.06 2.06-.94-2.06-.94-.94-2.06-.94 2.06-2.06.94zm-11 1L8.5 8.5l.94-2.06 2.06-.94-2.06-.94L8.5 2.5l-.94 2.06-2.06.94zm10 10l.94 2.06.94-2.06 2.06-.94-2.06-.94-.94-2.06-.94 2.06-2.06.94z\"/><path d=\"M17.41 7.96l-1.37-1.37c-.4-.4-.92-.59-1.43-.59-.52 0-1.04.2-1.43.59L10.3 9.45l-7.72 7.72c-.78.78-.78 2.05 0 2.83L4 21.41c.39.39.9.59 1.41.59.51 0 1.02-.2 1.41-.59l7.78-7.78 2.81-2.81c.8-.78.8-2.07 0-2.86zM5.41 20L4 18.59l7.72-7.72 1.47 1.35L5.41 20z\"/>\n",
              "  </svg>\n",
              "      </button>\n",
              "      \n",
              "  <style>\n",
              "    .colab-df-container {\n",
              "      display:flex;\n",
              "      flex-wrap:wrap;\n",
              "      gap: 12px;\n",
              "    }\n",
              "\n",
              "    .colab-df-convert {\n",
              "      background-color: #E8F0FE;\n",
              "      border: none;\n",
              "      border-radius: 50%;\n",
              "      cursor: pointer;\n",
              "      display: none;\n",
              "      fill: #1967D2;\n",
              "      height: 32px;\n",
              "      padding: 0 0 0 0;\n",
              "      width: 32px;\n",
              "    }\n",
              "\n",
              "    .colab-df-convert:hover {\n",
              "      background-color: #E2EBFA;\n",
              "      box-shadow: 0px 1px 2px rgba(60, 64, 67, 0.3), 0px 1px 3px 1px rgba(60, 64, 67, 0.15);\n",
              "      fill: #174EA6;\n",
              "    }\n",
              "\n",
              "    [theme=dark] .colab-df-convert {\n",
              "      background-color: #3B4455;\n",
              "      fill: #D2E3FC;\n",
              "    }\n",
              "\n",
              "    [theme=dark] .colab-df-convert:hover {\n",
              "      background-color: #434B5C;\n",
              "      box-shadow: 0px 1px 3px 1px rgba(0, 0, 0, 0.15);\n",
              "      filter: drop-shadow(0px 1px 2px rgba(0, 0, 0, 0.3));\n",
              "      fill: #FFFFFF;\n",
              "    }\n",
              "  </style>\n",
              "\n",
              "      <script>\n",
              "        const buttonEl =\n",
              "          document.querySelector('#df-6fc0f570-950b-4fc0-a0e1-b9bb97a63882 button.colab-df-convert');\n",
              "        buttonEl.style.display =\n",
              "          google.colab.kernel.accessAllowed ? 'block' : 'none';\n",
              "\n",
              "        async function convertToInteractive(key) {\n",
              "          const element = document.querySelector('#df-6fc0f570-950b-4fc0-a0e1-b9bb97a63882');\n",
              "          const dataTable =\n",
              "            await google.colab.kernel.invokeFunction('convertToInteractive',\n",
              "                                                     [key], {});\n",
              "          if (!dataTable) return;\n",
              "\n",
              "          const docLinkHtml = 'Like what you see? Visit the ' +\n",
              "            '<a target=\"_blank\" href=https://colab.research.google.com/notebooks/data_table.ipynb>data table notebook</a>'\n",
              "            + ' to learn more about interactive tables.';\n",
              "          element.innerHTML = '';\n",
              "          dataTable['output_type'] = 'display_data';\n",
              "          await google.colab.output.renderOutput(dataTable, element);\n",
              "          const docLink = document.createElement('div');\n",
              "          docLink.innerHTML = docLinkHtml;\n",
              "          element.appendChild(docLink);\n",
              "        }\n",
              "      </script>\n",
              "    </div>\n",
              "  </div>\n",
              "  "
            ],
            "text/plain": [
              "   user_id  category_id  ...  video_range_Popular Video  video_range_UnPopular Video\n",
              "0    19990           37  ...                          0                            1\n",
              "1     5304           32  ...                          1                            0\n",
              "2     1840           12  ...                          0                            1\n",
              "3    12597           23  ...                          1                            0\n",
              "4    13626           23  ...                          1                            0\n",
              "\n",
              "[5 rows x 23 columns]"
            ]
          },
          "metadata": {},
          "execution_count": 72
        }
      ]
    },
    {
      "cell_type": "code",
      "source": [
        "# Seperating independent and dependent variables\n",
        "y = train_cleaned['engagement_score']\n",
        "X = train_cleaned.drop(['engagement_score'], axis=1)"
      ],
      "metadata": {
        "id": "T0jcKk4RNwm6"
      },
      "execution_count": 73,
      "outputs": []
    },
    {
      "cell_type": "code",
      "source": [
        "# Creating the train and validation set\n",
        "X_train, X_valid, y_train, y_valid = train_test_split(X, y, random_state = 101, stratify=y, test_size=0.25)"
      ],
      "metadata": {
        "id": "o4oGC3U8N1wc"
      },
      "execution_count": 74,
      "outputs": []
    },
    {
      "cell_type": "code",
      "source": [
        "# Import required libraries\n",
        "from sklearn import tree\n",
        "from sklearn.tree import DecisionTreeRegressor\n",
        "from sklearn.linear_model import LinearRegression as LR\n",
        "from sklearn.ensemble import RandomForestRegressor \n",
        "from sklearn.ensemble import GradientBoostingRegressor \n",
        "from sklearn.metrics import mean_absolute_error,r2_score"
      ],
      "metadata": {
        "id": "AFgyKMFtOQUT"
      },
      "execution_count": 75,
      "outputs": []
    },
    {
      "cell_type": "code",
      "source": [
        "# Creating the Gradient Boosting function\n",
        "gbm = GradientBoostingRegressor(random_state=10)"
      ],
      "metadata": {
        "id": "5ILNKgsvPWcw"
      },
      "execution_count": 76,
      "outputs": []
    },
    {
      "cell_type": "code",
      "source": [
        "# Fitting the model\n",
        "gbm.fit(X_train, y_train)"
      ],
      "metadata": {
        "colab": {
          "base_uri": "https://localhost:8080/"
        },
        "id": "TrYyh75sPbyu",
        "outputId": "5b33bc88-fa63-4b7a-e5bd-21104a3ba51f"
      },
      "execution_count": 77,
      "outputs": [
        {
          "output_type": "execute_result",
          "data": {
            "text/plain": [
              "GradientBoostingRegressor(random_state=10)"
            ]
          },
          "metadata": {},
          "execution_count": 77
        }
      ]
    },
    {
      "cell_type": "code",
      "source": [
        "# Predictions \n",
        "train_predict = gbm.predict(X_train)\n",
        "val_predict = gbm.predict(X_valid)\n",
        "test_predict = gbm.predict(test_cleaned)"
      ],
      "metadata": {
        "id": "dB1K8lwjPjdw"
      },
      "execution_count": 78,
      "outputs": []
    },
    {
      "cell_type": "code",
      "source": [
        "# MAE\n",
        "mae_train=mean_absolute_error(y_train,train_predict)\n",
        "mae_val=mean_absolute_error(y_valid,val_predict)\n",
        "print('Training MAE: ', mae_train)\n",
        "print('Validation MAE: ', mae_val)"
      ],
      "metadata": {
        "colab": {
          "base_uri": "https://localhost:8080/"
        },
        "id": "MQD8ojNqPnDR",
        "outputId": "1ad266a4-e9a4-4ab6-dc56-5eaf409e6a05"
      },
      "execution_count": 79,
      "outputs": [
        {
          "output_type": "stream",
          "name": "stdout",
          "text": [
            "Training MAE:  0.5316487808047178\n",
            "Validation MAE:  0.529964570167084\n"
          ]
        }
      ]
    },
    {
      "cell_type": "code",
      "source": [
        "# R2 score\n",
        "r2_train=r2_score(y_train,train_predict)\n",
        "r2_val=r2_score(y_valid, val_predict)\n",
        "print('Training R2 score: ', r2_train)\n",
        "print('Validation R2 score: ', r2_val)"
      ],
      "metadata": {
        "colab": {
          "base_uri": "https://localhost:8080/"
        },
        "id": "1a1i10OrPu22",
        "outputId": "3a92af72-6d18-4c7a-ea95-5a045b908f5c"
      },
      "execution_count": 80,
      "outputs": [
        {
          "output_type": "stream",
          "name": "stdout",
          "text": [
            "Training R2 score:  0.34457682244527243\n",
            "Validation R2 score:  0.34580502909824906\n"
          ]
        }
      ]
    },
    {
      "cell_type": "markdown",
      "source": [
        "## Tuning"
      ],
      "metadata": {
        "id": "4Vb5nW4dDyuP"
      }
    },
    {
      "cell_type": "code",
      "source": [
        "from sklearn.model_selection import GridSearchCV, RandomizedSearchCV\n",
        "gbm = GradientBoostingRegressor(random_state=10)\n",
        "\n",
        "gbm_params = {'max_depth': [2, 3, 5, 7], \n",
        "          'learning_rate': [0.05, 0.1, 0.2, 0.3, 0.5],\n",
        "          'n_estimators': [100, 200, 300, 400, 500]}\n",
        "\n",
        "random_search = RandomizedSearchCV(gbm, \n",
        "                                   param_distributions = gbm_params, \n",
        "                                   scoring = r2_score, cv = 3, \n",
        "                                   verbose = 3, n_iter = 10, n_jobs = -1)"
      ],
      "metadata": {
        "id": "LNjrkOuGGPYJ"
      },
      "execution_count": null,
      "outputs": []
    },
    {
      "cell_type": "code",
      "source": [
        "random_search.fit(X_train, y_train)"
      ],
      "metadata": {
        "colab": {
          "base_uri": "https://localhost:8080/"
        },
        "id": "mF3t8yYhIFHy",
        "outputId": "f3a92534-923d-41e1-ccb4-56bf72a4a73e"
      },
      "execution_count": null,
      "outputs": [
        {
          "output_type": "stream",
          "name": "stdout",
          "text": [
            "Fitting 3 folds for each of 10 candidates, totalling 30 fits\n"
          ]
        },
        {
          "output_type": "execute_result",
          "data": {
            "text/plain": [
              "RandomizedSearchCV(cv=3, estimator=GradientBoostingRegressor(random_state=10),\n",
              "                   n_jobs=-1,\n",
              "                   param_distributions={'learning_rate': [0.05, 0.1, 0.2, 0.3,\n",
              "                                                          0.5],\n",
              "                                        'max_depth': [2, 3, 5, 7],\n",
              "                                        'n_estimators': [100, 200, 300, 400,\n",
              "                                                         500]},\n",
              "                   scoring=<function r2_score at 0x7fad1f309b00>, verbose=3)"
            ]
          },
          "metadata": {},
          "execution_count": 103
        }
      ]
    },
    {
      "cell_type": "code",
      "source": [
        "random_search.best_params_"
      ],
      "metadata": {
        "colab": {
          "base_uri": "https://localhost:8080/"
        },
        "id": "oY_qDs8kUbCm",
        "outputId": "9e5581a1-2a8f-4388-c361-e3a965231dbf"
      },
      "execution_count": null,
      "outputs": [
        {
          "output_type": "execute_result",
          "data": {
            "text/plain": [
              "{'learning_rate': 0.5, 'max_depth': 5, 'n_estimators': 500}"
            ]
          },
          "metadata": {},
          "execution_count": 104
        }
      ]
    },
    {
      "cell_type": "code",
      "source": [
        "random_search.best_estimator_"
      ],
      "metadata": {
        "colab": {
          "base_uri": "https://localhost:8080/"
        },
        "id": "0uZRSt0pUdqZ",
        "outputId": "90054077-7a20-4335-e4e5-36b1e5c40f9b"
      },
      "execution_count": null,
      "outputs": [
        {
          "output_type": "execute_result",
          "data": {
            "text/plain": [
              "GradientBoostingRegressor(learning_rate=0.5, max_depth=5, n_estimators=500,\n",
              "                          random_state=10)"
            ]
          },
          "metadata": {},
          "execution_count": 105
        }
      ]
    },
    {
      "cell_type": "markdown",
      "source": [
        "## Creating a GBM instance with new hyperparameter values"
      ],
      "metadata": {
        "id": "Xl8-CgrMUtJV"
      }
    },
    {
      "cell_type": "code",
      "source": [
        "# Creating the Gradient Boosting function\n",
        "gbm = GradientBoostingRegressor(learning_rate=0.5, max_depth=5, n_estimators=1500,\n",
        "                          random_state=10)"
      ],
      "metadata": {
        "id": "4r5tOhiZUt-c"
      },
      "execution_count": 81,
      "outputs": []
    },
    {
      "cell_type": "code",
      "source": [
        "# Fitting the model\n",
        "gbm.fit(X_train, y_train)"
      ],
      "metadata": {
        "colab": {
          "base_uri": "https://localhost:8080/"
        },
        "id": "e_Fz7E6TUv0c",
        "outputId": "e9446a8a-a862-4b18-ce90-cf256860ea5d"
      },
      "execution_count": 82,
      "outputs": [
        {
          "output_type": "execute_result",
          "data": {
            "text/plain": [
              "GradientBoostingRegressor(learning_rate=0.5, max_depth=5, n_estimators=1500,\n",
              "                          random_state=10)"
            ]
          },
          "metadata": {},
          "execution_count": 82
        }
      ]
    },
    {
      "cell_type": "code",
      "source": [
        "# Predictions \n",
        "train_predict = gbm.predict(X_train)\n",
        "val_predict = gbm.predict(X_valid)\n",
        "test_predict = gbm.predict(test_cleaned)"
      ],
      "metadata": {
        "id": "IVsRHT_vUxhA"
      },
      "execution_count": 83,
      "outputs": []
    },
    {
      "cell_type": "code",
      "source": [
        "# MAE\n",
        "mae_train=mean_absolute_error(y_train,train_predict)\n",
        "mae_val=mean_absolute_error(y_valid,val_predict)\n",
        "print('Training MAE: ', mae_train)\n",
        "print('Validation MAE: ', mae_val)"
      ],
      "metadata": {
        "colab": {
          "base_uri": "https://localhost:8080/"
        },
        "id": "4xSeug5oVAOb",
        "outputId": "85ed551d-9cd4-4e1e-d90e-745dd77f98e3"
      },
      "execution_count": 84,
      "outputs": [
        {
          "output_type": "stream",
          "name": "stdout",
          "text": [
            "Training MAE:  0.24903694060309253\n",
            "Validation MAE:  0.5013291110451759\n"
          ]
        }
      ]
    },
    {
      "cell_type": "code",
      "source": [
        "# R2 score\n",
        "r2_train=r2_score(y_train,train_predict)\n",
        "r2_val=r2_score(y_valid, val_predict)\n",
        "print('Training R2 score: ', r2_train)\n",
        "print('Validation R2 score: ', r2_val)"
      ],
      "metadata": {
        "colab": {
          "base_uri": "https://localhost:8080/"
        },
        "id": "gtGhil59VFGI",
        "outputId": "89dba986-25f5-4d3e-b304-0a2e89060850"
      },
      "execution_count": 85,
      "outputs": [
        {
          "output_type": "stream",
          "name": "stdout",
          "text": [
            "Training R2 score:  0.8500656957286451\n",
            "Validation R2 score:  0.38389531118206244\n"
          ]
        }
      ]
    },
    {
      "cell_type": "markdown",
      "source": [
        "## Submission"
      ],
      "metadata": {
        "id": "fPL7ODuYh_1O"
      }
    },
    {
      "cell_type": "code",
      "source": [
        "TEST=pd.read_csv(\"sample_submission_JPlpRcN.csv\")\n",
        "TEST['engagement_score'] = test_predict\n",
        "TEST.head(10)"
      ],
      "metadata": {
        "colab": {
          "base_uri": "https://localhost:8080/",
          "height": 363
        },
        "id": "Stpy6N3jRK1z",
        "outputId": "1cb66f45-0027-4fad-e4a0-588077c202c1"
      },
      "execution_count": 86,
      "outputs": [
        {
          "output_type": "execute_result",
          "data": {
            "text/html": [
              "\n",
              "  <div id=\"df-088e2e13-1b58-4582-9245-56d1496897c8\">\n",
              "    <div class=\"colab-df-container\">\n",
              "      <div>\n",
              "<style scoped>\n",
              "    .dataframe tbody tr th:only-of-type {\n",
              "        vertical-align: middle;\n",
              "    }\n",
              "\n",
              "    .dataframe tbody tr th {\n",
              "        vertical-align: top;\n",
              "    }\n",
              "\n",
              "    .dataframe thead th {\n",
              "        text-align: right;\n",
              "    }\n",
              "</style>\n",
              "<table border=\"1\" class=\"dataframe\">\n",
              "  <thead>\n",
              "    <tr style=\"text-align: right;\">\n",
              "      <th></th>\n",
              "      <th>row_id</th>\n",
              "      <th>engagement_score</th>\n",
              "    </tr>\n",
              "  </thead>\n",
              "  <tbody>\n",
              "    <tr>\n",
              "      <th>0</th>\n",
              "      <td>89198</td>\n",
              "      <td>3.942616</td>\n",
              "    </tr>\n",
              "    <tr>\n",
              "      <th>1</th>\n",
              "      <td>89199</td>\n",
              "      <td>3.682638</td>\n",
              "    </tr>\n",
              "    <tr>\n",
              "      <th>2</th>\n",
              "      <td>89200</td>\n",
              "      <td>2.480802</td>\n",
              "    </tr>\n",
              "    <tr>\n",
              "      <th>3</th>\n",
              "      <td>89201</td>\n",
              "      <td>3.194431</td>\n",
              "    </tr>\n",
              "    <tr>\n",
              "      <th>4</th>\n",
              "      <td>89202</td>\n",
              "      <td>2.207043</td>\n",
              "    </tr>\n",
              "    <tr>\n",
              "      <th>5</th>\n",
              "      <td>89203</td>\n",
              "      <td>3.400901</td>\n",
              "    </tr>\n",
              "    <tr>\n",
              "      <th>6</th>\n",
              "      <td>89204</td>\n",
              "      <td>3.885111</td>\n",
              "    </tr>\n",
              "    <tr>\n",
              "      <th>7</th>\n",
              "      <td>89205</td>\n",
              "      <td>4.186017</td>\n",
              "    </tr>\n",
              "    <tr>\n",
              "      <th>8</th>\n",
              "      <td>89206</td>\n",
              "      <td>2.418137</td>\n",
              "    </tr>\n",
              "    <tr>\n",
              "      <th>9</th>\n",
              "      <td>89207</td>\n",
              "      <td>4.104301</td>\n",
              "    </tr>\n",
              "  </tbody>\n",
              "</table>\n",
              "</div>\n",
              "      <button class=\"colab-df-convert\" onclick=\"convertToInteractive('df-088e2e13-1b58-4582-9245-56d1496897c8')\"\n",
              "              title=\"Convert this dataframe to an interactive table.\"\n",
              "              style=\"display:none;\">\n",
              "        \n",
              "  <svg xmlns=\"http://www.w3.org/2000/svg\" height=\"24px\"viewBox=\"0 0 24 24\"\n",
              "       width=\"24px\">\n",
              "    <path d=\"M0 0h24v24H0V0z\" fill=\"none\"/>\n",
              "    <path d=\"M18.56 5.44l.94 2.06.94-2.06 2.06-.94-2.06-.94-.94-2.06-.94 2.06-2.06.94zm-11 1L8.5 8.5l.94-2.06 2.06-.94-2.06-.94L8.5 2.5l-.94 2.06-2.06.94zm10 10l.94 2.06.94-2.06 2.06-.94-2.06-.94-.94-2.06-.94 2.06-2.06.94z\"/><path d=\"M17.41 7.96l-1.37-1.37c-.4-.4-.92-.59-1.43-.59-.52 0-1.04.2-1.43.59L10.3 9.45l-7.72 7.72c-.78.78-.78 2.05 0 2.83L4 21.41c.39.39.9.59 1.41.59.51 0 1.02-.2 1.41-.59l7.78-7.78 2.81-2.81c.8-.78.8-2.07 0-2.86zM5.41 20L4 18.59l7.72-7.72 1.47 1.35L5.41 20z\"/>\n",
              "  </svg>\n",
              "      </button>\n",
              "      \n",
              "  <style>\n",
              "    .colab-df-container {\n",
              "      display:flex;\n",
              "      flex-wrap:wrap;\n",
              "      gap: 12px;\n",
              "    }\n",
              "\n",
              "    .colab-df-convert {\n",
              "      background-color: #E8F0FE;\n",
              "      border: none;\n",
              "      border-radius: 50%;\n",
              "      cursor: pointer;\n",
              "      display: none;\n",
              "      fill: #1967D2;\n",
              "      height: 32px;\n",
              "      padding: 0 0 0 0;\n",
              "      width: 32px;\n",
              "    }\n",
              "\n",
              "    .colab-df-convert:hover {\n",
              "      background-color: #E2EBFA;\n",
              "      box-shadow: 0px 1px 2px rgba(60, 64, 67, 0.3), 0px 1px 3px 1px rgba(60, 64, 67, 0.15);\n",
              "      fill: #174EA6;\n",
              "    }\n",
              "\n",
              "    [theme=dark] .colab-df-convert {\n",
              "      background-color: #3B4455;\n",
              "      fill: #D2E3FC;\n",
              "    }\n",
              "\n",
              "    [theme=dark] .colab-df-convert:hover {\n",
              "      background-color: #434B5C;\n",
              "      box-shadow: 0px 1px 3px 1px rgba(0, 0, 0, 0.15);\n",
              "      filter: drop-shadow(0px 1px 2px rgba(0, 0, 0, 0.3));\n",
              "      fill: #FFFFFF;\n",
              "    }\n",
              "  </style>\n",
              "\n",
              "      <script>\n",
              "        const buttonEl =\n",
              "          document.querySelector('#df-088e2e13-1b58-4582-9245-56d1496897c8 button.colab-df-convert');\n",
              "        buttonEl.style.display =\n",
              "          google.colab.kernel.accessAllowed ? 'block' : 'none';\n",
              "\n",
              "        async function convertToInteractive(key) {\n",
              "          const element = document.querySelector('#df-088e2e13-1b58-4582-9245-56d1496897c8');\n",
              "          const dataTable =\n",
              "            await google.colab.kernel.invokeFunction('convertToInteractive',\n",
              "                                                     [key], {});\n",
              "          if (!dataTable) return;\n",
              "\n",
              "          const docLinkHtml = 'Like what you see? Visit the ' +\n",
              "            '<a target=\"_blank\" href=https://colab.research.google.com/notebooks/data_table.ipynb>data table notebook</a>'\n",
              "            + ' to learn more about interactive tables.';\n",
              "          element.innerHTML = '';\n",
              "          dataTable['output_type'] = 'display_data';\n",
              "          await google.colab.output.renderOutput(dataTable, element);\n",
              "          const docLink = document.createElement('div');\n",
              "          docLink.innerHTML = docLinkHtml;\n",
              "          element.appendChild(docLink);\n",
              "        }\n",
              "      </script>\n",
              "    </div>\n",
              "  </div>\n",
              "  "
            ],
            "text/plain": [
              "   row_id  engagement_score\n",
              "0   89198          3.942616\n",
              "1   89199          3.682638\n",
              "2   89200          2.480802\n",
              "3   89201          3.194431\n",
              "4   89202          2.207043\n",
              "5   89203          3.400901\n",
              "6   89204          3.885111\n",
              "7   89205          4.186017\n",
              "8   89206          2.418137\n",
              "9   89207          4.104301"
            ]
          },
          "metadata": {},
          "execution_count": 86
        }
      ]
    },
    {
      "cell_type": "code",
      "source": [
        "# Converting to csv format\n",
        "TEST.to_csv('DanielThommanajobathonfeb2022final.csv',index=False)"
      ],
      "metadata": {
        "id": "XF7ZuIlKRXYq"
      },
      "execution_count": 87,
      "outputs": []
    }
  ]
}